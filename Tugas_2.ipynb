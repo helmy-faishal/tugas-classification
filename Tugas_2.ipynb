{
  "cells": [
    {
      "cell_type": "markdown",
      "metadata": {
        "id": "ltkiNSpR4SBN"
      },
      "source": [
        "**Tugas 2 - Classification**<br>\n",
        "Anggota Kelompok: <br>\n",
        "\n",
        "* Muhammad Helmy Faishal (1301190400)\n",
        "* Muchammad Alfi Karom\t(1301190363)"
      ]
    },
    {
      "cell_type": "code",
      "execution_count": null,
      "metadata": {
        "id": "8DL0zIdb4SBQ"
      },
      "outputs": [],
      "source": [
        "# Untuk mengabaikan warning\n",
        "import warnings\n",
        "warnings.filterwarnings(\"ignore\")"
      ]
    },
    {
      "cell_type": "markdown",
      "metadata": {
        "id": "t4-sQFdv4SBS"
      },
      "source": [
        "# **Formulasi Masalah**"
      ]
    },
    {
      "cell_type": "markdown",
      "metadata": {
        "id": "WPt1TwQ04SBS"
      },
      "source": [
        "Pada tugas 2 mata kuliah Pembelajaran Mesin ini kami akan melakukan classification pada dataset yang telah disediakan yang berisi [data train](https://github.com/helmy-faishal/tugas-classification/blob/main/kendaraan_train.csv?raw=true) dan [data test](https://github.com/helmy-faishal/tugas-classification/blob/main/kendaraan_test.csv?raw=true)"
      ]
    },
    {
      "cell_type": "markdown",
      "metadata": {
        "id": "edvUAJUf4SBS"
      },
      "source": [
        "# **Ekspolarasi dan Persiapan Data**"
      ]
    },
    {
      "cell_type": "markdown",
      "metadata": {
        "id": "QaTBIWID4SBT"
      },
      "source": [
        "## **Load Dataset**"
      ]
    },
    {
      "cell_type": "code",
      "execution_count": null,
      "metadata": {
        "id": "_YvqwpJc4SBT"
      },
      "outputs": [],
      "source": [
        "import pandas as pd"
      ]
    },
    {
      "cell_type": "markdown",
      "metadata": {
        "id": "Pp-nbKHf4SBU"
      },
      "source": [
        "**Data Train**"
      ]
    },
    {
      "cell_type": "code",
      "execution_count": null,
      "metadata": {
        "colab": {
          "base_uri": "https://localhost:8080/",
          "height": 423
        },
        "id": "U5D00lZW4SBU",
        "outputId": "b3b2412c-ca05-47be-ec86-9f12695868f2"
      },
      "outputs": [
        {
          "output_type": "execute_result",
          "data": {
            "text/html": [
              "\n",
              "  <div id=\"df-d7437308-0fcc-4a3f-8be2-219ed531122b\">\n",
              "    <div class=\"colab-df-container\">\n",
              "      <div>\n",
              "<style scoped>\n",
              "    .dataframe tbody tr th:only-of-type {\n",
              "        vertical-align: middle;\n",
              "    }\n",
              "\n",
              "    .dataframe tbody tr th {\n",
              "        vertical-align: top;\n",
              "    }\n",
              "\n",
              "    .dataframe thead th {\n",
              "        text-align: right;\n",
              "    }\n",
              "</style>\n",
              "<table border=\"1\" class=\"dataframe\">\n",
              "  <thead>\n",
              "    <tr style=\"text-align: right;\">\n",
              "      <th></th>\n",
              "      <th>id</th>\n",
              "      <th>Jenis_Kelamin</th>\n",
              "      <th>Umur</th>\n",
              "      <th>SIM</th>\n",
              "      <th>Kode_Daerah</th>\n",
              "      <th>Sudah_Asuransi</th>\n",
              "      <th>Umur_Kendaraan</th>\n",
              "      <th>Kendaraan_Rusak</th>\n",
              "      <th>Premi</th>\n",
              "      <th>Kanal_Penjualan</th>\n",
              "      <th>Lama_Berlangganan</th>\n",
              "      <th>Tertarik</th>\n",
              "    </tr>\n",
              "  </thead>\n",
              "  <tbody>\n",
              "    <tr>\n",
              "      <th>0</th>\n",
              "      <td>1</td>\n",
              "      <td>Wanita</td>\n",
              "      <td>30.0</td>\n",
              "      <td>1.0</td>\n",
              "      <td>33.0</td>\n",
              "      <td>1.0</td>\n",
              "      <td>&lt; 1 Tahun</td>\n",
              "      <td>Tidak</td>\n",
              "      <td>28029.0</td>\n",
              "      <td>152.0</td>\n",
              "      <td>97.0</td>\n",
              "      <td>0</td>\n",
              "    </tr>\n",
              "    <tr>\n",
              "      <th>1</th>\n",
              "      <td>2</td>\n",
              "      <td>Pria</td>\n",
              "      <td>48.0</td>\n",
              "      <td>1.0</td>\n",
              "      <td>39.0</td>\n",
              "      <td>0.0</td>\n",
              "      <td>&gt; 2 Tahun</td>\n",
              "      <td>Pernah</td>\n",
              "      <td>25800.0</td>\n",
              "      <td>29.0</td>\n",
              "      <td>158.0</td>\n",
              "      <td>0</td>\n",
              "    </tr>\n",
              "    <tr>\n",
              "      <th>2</th>\n",
              "      <td>3</td>\n",
              "      <td>NaN</td>\n",
              "      <td>21.0</td>\n",
              "      <td>1.0</td>\n",
              "      <td>46.0</td>\n",
              "      <td>1.0</td>\n",
              "      <td>&lt; 1 Tahun</td>\n",
              "      <td>Tidak</td>\n",
              "      <td>32733.0</td>\n",
              "      <td>160.0</td>\n",
              "      <td>119.0</td>\n",
              "      <td>0</td>\n",
              "    </tr>\n",
              "    <tr>\n",
              "      <th>3</th>\n",
              "      <td>4</td>\n",
              "      <td>Wanita</td>\n",
              "      <td>58.0</td>\n",
              "      <td>1.0</td>\n",
              "      <td>48.0</td>\n",
              "      <td>0.0</td>\n",
              "      <td>1-2 Tahun</td>\n",
              "      <td>Tidak</td>\n",
              "      <td>2630.0</td>\n",
              "      <td>124.0</td>\n",
              "      <td>63.0</td>\n",
              "      <td>0</td>\n",
              "    </tr>\n",
              "    <tr>\n",
              "      <th>4</th>\n",
              "      <td>5</td>\n",
              "      <td>Pria</td>\n",
              "      <td>50.0</td>\n",
              "      <td>1.0</td>\n",
              "      <td>35.0</td>\n",
              "      <td>0.0</td>\n",
              "      <td>&gt; 2 Tahun</td>\n",
              "      <td>NaN</td>\n",
              "      <td>34857.0</td>\n",
              "      <td>88.0</td>\n",
              "      <td>194.0</td>\n",
              "      <td>0</td>\n",
              "    </tr>\n",
              "    <tr>\n",
              "      <th>...</th>\n",
              "      <td>...</td>\n",
              "      <td>...</td>\n",
              "      <td>...</td>\n",
              "      <td>...</td>\n",
              "      <td>...</td>\n",
              "      <td>...</td>\n",
              "      <td>...</td>\n",
              "      <td>...</td>\n",
              "      <td>...</td>\n",
              "      <td>...</td>\n",
              "      <td>...</td>\n",
              "      <td>...</td>\n",
              "    </tr>\n",
              "    <tr>\n",
              "      <th>285826</th>\n",
              "      <td>285827</td>\n",
              "      <td>Wanita</td>\n",
              "      <td>23.0</td>\n",
              "      <td>1.0</td>\n",
              "      <td>4.0</td>\n",
              "      <td>1.0</td>\n",
              "      <td>&lt; 1 Tahun</td>\n",
              "      <td>Tidak</td>\n",
              "      <td>25988.0</td>\n",
              "      <td>152.0</td>\n",
              "      <td>217.0</td>\n",
              "      <td>0</td>\n",
              "    </tr>\n",
              "    <tr>\n",
              "      <th>285827</th>\n",
              "      <td>285828</td>\n",
              "      <td>Wanita</td>\n",
              "      <td>21.0</td>\n",
              "      <td>1.0</td>\n",
              "      <td>46.0</td>\n",
              "      <td>1.0</td>\n",
              "      <td>&lt; 1 Tahun</td>\n",
              "      <td>Tidak</td>\n",
              "      <td>44686.0</td>\n",
              "      <td>152.0</td>\n",
              "      <td>50.0</td>\n",
              "      <td>0</td>\n",
              "    </tr>\n",
              "    <tr>\n",
              "      <th>285828</th>\n",
              "      <td>285829</td>\n",
              "      <td>Wanita</td>\n",
              "      <td>23.0</td>\n",
              "      <td>1.0</td>\n",
              "      <td>50.0</td>\n",
              "      <td>1.0</td>\n",
              "      <td>&lt; 1 Tahun</td>\n",
              "      <td>Tidak</td>\n",
              "      <td>49751.0</td>\n",
              "      <td>152.0</td>\n",
              "      <td>226.0</td>\n",
              "      <td>0</td>\n",
              "    </tr>\n",
              "    <tr>\n",
              "      <th>285829</th>\n",
              "      <td>285830</td>\n",
              "      <td>Pria</td>\n",
              "      <td>68.0</td>\n",
              "      <td>1.0</td>\n",
              "      <td>7.0</td>\n",
              "      <td>1.0</td>\n",
              "      <td>1-2 Tahun</td>\n",
              "      <td>Tidak</td>\n",
              "      <td>30503.0</td>\n",
              "      <td>124.0</td>\n",
              "      <td>270.0</td>\n",
              "      <td>0</td>\n",
              "    </tr>\n",
              "    <tr>\n",
              "      <th>285830</th>\n",
              "      <td>285831</td>\n",
              "      <td>Pria</td>\n",
              "      <td>45.0</td>\n",
              "      <td>1.0</td>\n",
              "      <td>28.0</td>\n",
              "      <td>0.0</td>\n",
              "      <td>1-2 Tahun</td>\n",
              "      <td>Pernah</td>\n",
              "      <td>36480.0</td>\n",
              "      <td>26.0</td>\n",
              "      <td>44.0</td>\n",
              "      <td>0</td>\n",
              "    </tr>\n",
              "  </tbody>\n",
              "</table>\n",
              "<p>285831 rows × 12 columns</p>\n",
              "</div>\n",
              "      <button class=\"colab-df-convert\" onclick=\"convertToInteractive('df-d7437308-0fcc-4a3f-8be2-219ed531122b')\"\n",
              "              title=\"Convert this dataframe to an interactive table.\"\n",
              "              style=\"display:none;\">\n",
              "        \n",
              "  <svg xmlns=\"http://www.w3.org/2000/svg\" height=\"24px\"viewBox=\"0 0 24 24\"\n",
              "       width=\"24px\">\n",
              "    <path d=\"M0 0h24v24H0V0z\" fill=\"none\"/>\n",
              "    <path d=\"M18.56 5.44l.94 2.06.94-2.06 2.06-.94-2.06-.94-.94-2.06-.94 2.06-2.06.94zm-11 1L8.5 8.5l.94-2.06 2.06-.94-2.06-.94L8.5 2.5l-.94 2.06-2.06.94zm10 10l.94 2.06.94-2.06 2.06-.94-2.06-.94-.94-2.06-.94 2.06-2.06.94z\"/><path d=\"M17.41 7.96l-1.37-1.37c-.4-.4-.92-.59-1.43-.59-.52 0-1.04.2-1.43.59L10.3 9.45l-7.72 7.72c-.78.78-.78 2.05 0 2.83L4 21.41c.39.39.9.59 1.41.59.51 0 1.02-.2 1.41-.59l7.78-7.78 2.81-2.81c.8-.78.8-2.07 0-2.86zM5.41 20L4 18.59l7.72-7.72 1.47 1.35L5.41 20z\"/>\n",
              "  </svg>\n",
              "      </button>\n",
              "      \n",
              "  <style>\n",
              "    .colab-df-container {\n",
              "      display:flex;\n",
              "      flex-wrap:wrap;\n",
              "      gap: 12px;\n",
              "    }\n",
              "\n",
              "    .colab-df-convert {\n",
              "      background-color: #E8F0FE;\n",
              "      border: none;\n",
              "      border-radius: 50%;\n",
              "      cursor: pointer;\n",
              "      display: none;\n",
              "      fill: #1967D2;\n",
              "      height: 32px;\n",
              "      padding: 0 0 0 0;\n",
              "      width: 32px;\n",
              "    }\n",
              "\n",
              "    .colab-df-convert:hover {\n",
              "      background-color: #E2EBFA;\n",
              "      box-shadow: 0px 1px 2px rgba(60, 64, 67, 0.3), 0px 1px 3px 1px rgba(60, 64, 67, 0.15);\n",
              "      fill: #174EA6;\n",
              "    }\n",
              "\n",
              "    [theme=dark] .colab-df-convert {\n",
              "      background-color: #3B4455;\n",
              "      fill: #D2E3FC;\n",
              "    }\n",
              "\n",
              "    [theme=dark] .colab-df-convert:hover {\n",
              "      background-color: #434B5C;\n",
              "      box-shadow: 0px 1px 3px 1px rgba(0, 0, 0, 0.15);\n",
              "      filter: drop-shadow(0px 1px 2px rgba(0, 0, 0, 0.3));\n",
              "      fill: #FFFFFF;\n",
              "    }\n",
              "  </style>\n",
              "\n",
              "      <script>\n",
              "        const buttonEl =\n",
              "          document.querySelector('#df-d7437308-0fcc-4a3f-8be2-219ed531122b button.colab-df-convert');\n",
              "        buttonEl.style.display =\n",
              "          google.colab.kernel.accessAllowed ? 'block' : 'none';\n",
              "\n",
              "        async function convertToInteractive(key) {\n",
              "          const element = document.querySelector('#df-d7437308-0fcc-4a3f-8be2-219ed531122b');\n",
              "          const dataTable =\n",
              "            await google.colab.kernel.invokeFunction('convertToInteractive',\n",
              "                                                     [key], {});\n",
              "          if (!dataTable) return;\n",
              "\n",
              "          const docLinkHtml = 'Like what you see? Visit the ' +\n",
              "            '<a target=\"_blank\" href=https://colab.research.google.com/notebooks/data_table.ipynb>data table notebook</a>'\n",
              "            + ' to learn more about interactive tables.';\n",
              "          element.innerHTML = '';\n",
              "          dataTable['output_type'] = 'display_data';\n",
              "          await google.colab.output.renderOutput(dataTable, element);\n",
              "          const docLink = document.createElement('div');\n",
              "          docLink.innerHTML = docLinkHtml;\n",
              "          element.appendChild(docLink);\n",
              "        }\n",
              "      </script>\n",
              "    </div>\n",
              "  </div>\n",
              "  "
            ],
            "text/plain": [
              "            id Jenis_Kelamin  ...  Lama_Berlangganan  Tertarik\n",
              "0            1        Wanita  ...               97.0         0\n",
              "1            2          Pria  ...              158.0         0\n",
              "2            3           NaN  ...              119.0         0\n",
              "3            4        Wanita  ...               63.0         0\n",
              "4            5          Pria  ...              194.0         0\n",
              "...        ...           ...  ...                ...       ...\n",
              "285826  285827        Wanita  ...              217.0         0\n",
              "285827  285828        Wanita  ...               50.0         0\n",
              "285828  285829        Wanita  ...              226.0         0\n",
              "285829  285830          Pria  ...              270.0         0\n",
              "285830  285831          Pria  ...               44.0         0\n",
              "\n",
              "[285831 rows x 12 columns]"
            ]
          },
          "metadata": {},
          "execution_count": 3
        }
      ],
      "source": [
        "df_train = pd.read_csv(\"https://github.com/helmy-faishal/tugas-classification/blob/main/kendaraan_train.csv?raw=true\")\n",
        "df_train"
      ]
    },
    {
      "cell_type": "markdown",
      "metadata": {
        "id": "zpTZ17Bb4SBV"
      },
      "source": [
        "**Data Test**"
      ]
    },
    {
      "cell_type": "code",
      "execution_count": null,
      "metadata": {
        "colab": {
          "base_uri": "https://localhost:8080/",
          "height": 423
        },
        "id": "2-qs97m04SBW",
        "outputId": "300ccc30-d220-476b-a696-0baef9fa6305"
      },
      "outputs": [
        {
          "output_type": "execute_result",
          "data": {
            "text/html": [
              "\n",
              "  <div id=\"df-89bf9de9-56fb-4db4-bb56-d5bdffabb959\">\n",
              "    <div class=\"colab-df-container\">\n",
              "      <div>\n",
              "<style scoped>\n",
              "    .dataframe tbody tr th:only-of-type {\n",
              "        vertical-align: middle;\n",
              "    }\n",
              "\n",
              "    .dataframe tbody tr th {\n",
              "        vertical-align: top;\n",
              "    }\n",
              "\n",
              "    .dataframe thead th {\n",
              "        text-align: right;\n",
              "    }\n",
              "</style>\n",
              "<table border=\"1\" class=\"dataframe\">\n",
              "  <thead>\n",
              "    <tr style=\"text-align: right;\">\n",
              "      <th></th>\n",
              "      <th>Jenis_Kelamin</th>\n",
              "      <th>Umur</th>\n",
              "      <th>SIM</th>\n",
              "      <th>Kode_Daerah</th>\n",
              "      <th>Sudah_Asuransi</th>\n",
              "      <th>Umur_Kendaraan</th>\n",
              "      <th>Kendaraan_Rusak</th>\n",
              "      <th>Premi</th>\n",
              "      <th>Kanal_Penjualan</th>\n",
              "      <th>Lama_Berlangganan</th>\n",
              "      <th>Tertarik</th>\n",
              "    </tr>\n",
              "  </thead>\n",
              "  <tbody>\n",
              "    <tr>\n",
              "      <th>0</th>\n",
              "      <td>Wanita</td>\n",
              "      <td>49</td>\n",
              "      <td>1</td>\n",
              "      <td>8</td>\n",
              "      <td>0</td>\n",
              "      <td>1-2 Tahun</td>\n",
              "      <td>Pernah</td>\n",
              "      <td>46963</td>\n",
              "      <td>26</td>\n",
              "      <td>145</td>\n",
              "      <td>0</td>\n",
              "    </tr>\n",
              "    <tr>\n",
              "      <th>1</th>\n",
              "      <td>Pria</td>\n",
              "      <td>22</td>\n",
              "      <td>1</td>\n",
              "      <td>47</td>\n",
              "      <td>1</td>\n",
              "      <td>&lt; 1 Tahun</td>\n",
              "      <td>Tidak</td>\n",
              "      <td>39624</td>\n",
              "      <td>152</td>\n",
              "      <td>241</td>\n",
              "      <td>0</td>\n",
              "    </tr>\n",
              "    <tr>\n",
              "      <th>2</th>\n",
              "      <td>Pria</td>\n",
              "      <td>24</td>\n",
              "      <td>1</td>\n",
              "      <td>28</td>\n",
              "      <td>1</td>\n",
              "      <td>&lt; 1 Tahun</td>\n",
              "      <td>Tidak</td>\n",
              "      <td>110479</td>\n",
              "      <td>152</td>\n",
              "      <td>62</td>\n",
              "      <td>0</td>\n",
              "    </tr>\n",
              "    <tr>\n",
              "      <th>3</th>\n",
              "      <td>Pria</td>\n",
              "      <td>46</td>\n",
              "      <td>1</td>\n",
              "      <td>8</td>\n",
              "      <td>1</td>\n",
              "      <td>1-2 Tahun</td>\n",
              "      <td>Tidak</td>\n",
              "      <td>36266</td>\n",
              "      <td>124</td>\n",
              "      <td>34</td>\n",
              "      <td>0</td>\n",
              "    </tr>\n",
              "    <tr>\n",
              "      <th>4</th>\n",
              "      <td>Pria</td>\n",
              "      <td>35</td>\n",
              "      <td>1</td>\n",
              "      <td>23</td>\n",
              "      <td>0</td>\n",
              "      <td>1-2 Tahun</td>\n",
              "      <td>Pernah</td>\n",
              "      <td>26963</td>\n",
              "      <td>152</td>\n",
              "      <td>229</td>\n",
              "      <td>0</td>\n",
              "    </tr>\n",
              "    <tr>\n",
              "      <th>...</th>\n",
              "      <td>...</td>\n",
              "      <td>...</td>\n",
              "      <td>...</td>\n",
              "      <td>...</td>\n",
              "      <td>...</td>\n",
              "      <td>...</td>\n",
              "      <td>...</td>\n",
              "      <td>...</td>\n",
              "      <td>...</td>\n",
              "      <td>...</td>\n",
              "      <td>...</td>\n",
              "    </tr>\n",
              "    <tr>\n",
              "      <th>47634</th>\n",
              "      <td>Pria</td>\n",
              "      <td>61</td>\n",
              "      <td>1</td>\n",
              "      <td>46</td>\n",
              "      <td>0</td>\n",
              "      <td>&gt; 2 Tahun</td>\n",
              "      <td>Pernah</td>\n",
              "      <td>31039</td>\n",
              "      <td>124</td>\n",
              "      <td>67</td>\n",
              "      <td>0</td>\n",
              "    </tr>\n",
              "    <tr>\n",
              "      <th>47635</th>\n",
              "      <td>Pria</td>\n",
              "      <td>41</td>\n",
              "      <td>1</td>\n",
              "      <td>15</td>\n",
              "      <td>0</td>\n",
              "      <td>1-2 Tahun</td>\n",
              "      <td>Pernah</td>\n",
              "      <td>2630</td>\n",
              "      <td>157</td>\n",
              "      <td>232</td>\n",
              "      <td>0</td>\n",
              "    </tr>\n",
              "    <tr>\n",
              "      <th>47636</th>\n",
              "      <td>Pria</td>\n",
              "      <td>24</td>\n",
              "      <td>1</td>\n",
              "      <td>29</td>\n",
              "      <td>1</td>\n",
              "      <td>&lt; 1 Tahun</td>\n",
              "      <td>Tidak</td>\n",
              "      <td>33101</td>\n",
              "      <td>152</td>\n",
              "      <td>211</td>\n",
              "      <td>0</td>\n",
              "    </tr>\n",
              "    <tr>\n",
              "      <th>47637</th>\n",
              "      <td>Pria</td>\n",
              "      <td>59</td>\n",
              "      <td>1</td>\n",
              "      <td>30</td>\n",
              "      <td>0</td>\n",
              "      <td>1-2 Tahun</td>\n",
              "      <td>Pernah</td>\n",
              "      <td>37788</td>\n",
              "      <td>26</td>\n",
              "      <td>239</td>\n",
              "      <td>1</td>\n",
              "    </tr>\n",
              "    <tr>\n",
              "      <th>47638</th>\n",
              "      <td>Pria</td>\n",
              "      <td>52</td>\n",
              "      <td>1</td>\n",
              "      <td>31</td>\n",
              "      <td>0</td>\n",
              "      <td>1-2 Tahun</td>\n",
              "      <td>Tidak</td>\n",
              "      <td>2630</td>\n",
              "      <td>124</td>\n",
              "      <td>170</td>\n",
              "      <td>0</td>\n",
              "    </tr>\n",
              "  </tbody>\n",
              "</table>\n",
              "<p>47639 rows × 11 columns</p>\n",
              "</div>\n",
              "      <button class=\"colab-df-convert\" onclick=\"convertToInteractive('df-89bf9de9-56fb-4db4-bb56-d5bdffabb959')\"\n",
              "              title=\"Convert this dataframe to an interactive table.\"\n",
              "              style=\"display:none;\">\n",
              "        \n",
              "  <svg xmlns=\"http://www.w3.org/2000/svg\" height=\"24px\"viewBox=\"0 0 24 24\"\n",
              "       width=\"24px\">\n",
              "    <path d=\"M0 0h24v24H0V0z\" fill=\"none\"/>\n",
              "    <path d=\"M18.56 5.44l.94 2.06.94-2.06 2.06-.94-2.06-.94-.94-2.06-.94 2.06-2.06.94zm-11 1L8.5 8.5l.94-2.06 2.06-.94-2.06-.94L8.5 2.5l-.94 2.06-2.06.94zm10 10l.94 2.06.94-2.06 2.06-.94-2.06-.94-.94-2.06-.94 2.06-2.06.94z\"/><path d=\"M17.41 7.96l-1.37-1.37c-.4-.4-.92-.59-1.43-.59-.52 0-1.04.2-1.43.59L10.3 9.45l-7.72 7.72c-.78.78-.78 2.05 0 2.83L4 21.41c.39.39.9.59 1.41.59.51 0 1.02-.2 1.41-.59l7.78-7.78 2.81-2.81c.8-.78.8-2.07 0-2.86zM5.41 20L4 18.59l7.72-7.72 1.47 1.35L5.41 20z\"/>\n",
              "  </svg>\n",
              "      </button>\n",
              "      \n",
              "  <style>\n",
              "    .colab-df-container {\n",
              "      display:flex;\n",
              "      flex-wrap:wrap;\n",
              "      gap: 12px;\n",
              "    }\n",
              "\n",
              "    .colab-df-convert {\n",
              "      background-color: #E8F0FE;\n",
              "      border: none;\n",
              "      border-radius: 50%;\n",
              "      cursor: pointer;\n",
              "      display: none;\n",
              "      fill: #1967D2;\n",
              "      height: 32px;\n",
              "      padding: 0 0 0 0;\n",
              "      width: 32px;\n",
              "    }\n",
              "\n",
              "    .colab-df-convert:hover {\n",
              "      background-color: #E2EBFA;\n",
              "      box-shadow: 0px 1px 2px rgba(60, 64, 67, 0.3), 0px 1px 3px 1px rgba(60, 64, 67, 0.15);\n",
              "      fill: #174EA6;\n",
              "    }\n",
              "\n",
              "    [theme=dark] .colab-df-convert {\n",
              "      background-color: #3B4455;\n",
              "      fill: #D2E3FC;\n",
              "    }\n",
              "\n",
              "    [theme=dark] .colab-df-convert:hover {\n",
              "      background-color: #434B5C;\n",
              "      box-shadow: 0px 1px 3px 1px rgba(0, 0, 0, 0.15);\n",
              "      filter: drop-shadow(0px 1px 2px rgba(0, 0, 0, 0.3));\n",
              "      fill: #FFFFFF;\n",
              "    }\n",
              "  </style>\n",
              "\n",
              "      <script>\n",
              "        const buttonEl =\n",
              "          document.querySelector('#df-89bf9de9-56fb-4db4-bb56-d5bdffabb959 button.colab-df-convert');\n",
              "        buttonEl.style.display =\n",
              "          google.colab.kernel.accessAllowed ? 'block' : 'none';\n",
              "\n",
              "        async function convertToInteractive(key) {\n",
              "          const element = document.querySelector('#df-89bf9de9-56fb-4db4-bb56-d5bdffabb959');\n",
              "          const dataTable =\n",
              "            await google.colab.kernel.invokeFunction('convertToInteractive',\n",
              "                                                     [key], {});\n",
              "          if (!dataTable) return;\n",
              "\n",
              "          const docLinkHtml = 'Like what you see? Visit the ' +\n",
              "            '<a target=\"_blank\" href=https://colab.research.google.com/notebooks/data_table.ipynb>data table notebook</a>'\n",
              "            + ' to learn more about interactive tables.';\n",
              "          element.innerHTML = '';\n",
              "          dataTable['output_type'] = 'display_data';\n",
              "          await google.colab.output.renderOutput(dataTable, element);\n",
              "          const docLink = document.createElement('div');\n",
              "          docLink.innerHTML = docLinkHtml;\n",
              "          element.appendChild(docLink);\n",
              "        }\n",
              "      </script>\n",
              "    </div>\n",
              "  </div>\n",
              "  "
            ],
            "text/plain": [
              "      Jenis_Kelamin  Umur  SIM  ...  Kanal_Penjualan  Lama_Berlangganan Tertarik\n",
              "0            Wanita    49    1  ...               26                145        0\n",
              "1              Pria    22    1  ...              152                241        0\n",
              "2              Pria    24    1  ...              152                 62        0\n",
              "3              Pria    46    1  ...              124                 34        0\n",
              "4              Pria    35    1  ...              152                229        0\n",
              "...             ...   ...  ...  ...              ...                ...      ...\n",
              "47634          Pria    61    1  ...              124                 67        0\n",
              "47635          Pria    41    1  ...              157                232        0\n",
              "47636          Pria    24    1  ...              152                211        0\n",
              "47637          Pria    59    1  ...               26                239        1\n",
              "47638          Pria    52    1  ...              124                170        0\n",
              "\n",
              "[47639 rows x 11 columns]"
            ]
          },
          "metadata": {},
          "execution_count": 4
        }
      ],
      "source": [
        "df_test = pd.read_csv(\"https://github.com/helmy-faishal/tugas-classification/blob/main/kendaraan_test.csv?raw=true\")\n",
        "df_test"
      ]
    },
    {
      "cell_type": "markdown",
      "metadata": {
        "id": "YFqfD1UF4SBW"
      },
      "source": [
        "## **Data Pre-Processing**"
      ]
    },
    {
      "cell_type": "markdown",
      "metadata": {
        "id": "1PNVohOW4SBX"
      },
      "source": [
        "### **Handling Missing Value**"
      ]
    },
    {
      "cell_type": "markdown",
      "metadata": {
        "id": "AMQmyF374SBX"
      },
      "source": [
        "Untuk menangani data yang kosong/hilang, disini kita akan mengambil nilai terbanyak/most frequent dari data dengan menggunakan bantuan SimpleImputer dari sklearn"
      ]
    },
    {
      "cell_type": "code",
      "execution_count": null,
      "metadata": {
        "id": "X5pZGyZd4SBX"
      },
      "outputs": [],
      "source": [
        "from sklearn.impute import SimpleImputer\n",
        "import numpy as np\n",
        "\n",
        "\n",
        "\n",
        "def handling_missing(df,columns):\n",
        "    imputer = SimpleImputer(strategy='most_frequent', missing_values=np.nan)\n",
        "    \n",
        "    df[columns] = imputer.fit_transform(df[columns])\n",
        "    \n",
        "    return df"
      ]
    },
    {
      "cell_type": "markdown",
      "metadata": {
        "id": "9evZffTu4SBX"
      },
      "source": [
        "**Data Train**"
      ]
    },
    {
      "cell_type": "code",
      "execution_count": null,
      "metadata": {
        "colab": {
          "base_uri": "https://localhost:8080/"
        },
        "id": "AeakOhgk4SBY",
        "outputId": "5179519b-2b8b-4fcc-d025-511ba5940963"
      },
      "outputs": [
        {
          "output_type": "execute_result",
          "data": {
            "text/plain": [
              "id                       0\n",
              "Jenis_Kelamin        14440\n",
              "Umur                 14214\n",
              "SIM                  14404\n",
              "Kode_Daerah          14306\n",
              "Sudah_Asuransi       14229\n",
              "Umur_Kendaraan       14275\n",
              "Kendaraan_Rusak      14188\n",
              "Premi                14569\n",
              "Kanal_Penjualan      14299\n",
              "Lama_Berlangganan    13992\n",
              "Tertarik                 0\n",
              "dtype: int64"
            ]
          },
          "metadata": {},
          "execution_count": 6
        }
      ],
      "source": [
        "df_train.isnull().sum()"
      ]
    },
    {
      "cell_type": "markdown",
      "metadata": {
        "id": "UDpoTlJk4SBY"
      },
      "source": [
        "Pada data train terlihat bahwa masih terdapat nilai yang kosong/hilang sehingga kita perlu menangani data tersebut terlebih dahulu"
      ]
    },
    {
      "cell_type": "code",
      "execution_count": null,
      "metadata": {
        "id": "yXX8K8O94SBY"
      },
      "outputs": [],
      "source": [
        "columns = df_train.drop(columns=[\"id\",\"Tertarik\"]).columns\n",
        "df_train = handling_missing(df_train,columns)"
      ]
    },
    {
      "cell_type": "code",
      "execution_count": null,
      "metadata": {
        "colab": {
          "base_uri": "https://localhost:8080/"
        },
        "id": "dVsFjUs84SBZ",
        "outputId": "f9d133e0-96ba-4d16-bba3-4c17a53787d3"
      },
      "outputs": [
        {
          "output_type": "execute_result",
          "data": {
            "text/plain": [
              "id                   0\n",
              "Jenis_Kelamin        0\n",
              "Umur                 0\n",
              "SIM                  0\n",
              "Kode_Daerah          0\n",
              "Sudah_Asuransi       0\n",
              "Umur_Kendaraan       0\n",
              "Kendaraan_Rusak      0\n",
              "Premi                0\n",
              "Kanal_Penjualan      0\n",
              "Lama_Berlangganan    0\n",
              "Tertarik             0\n",
              "dtype: int64"
            ]
          },
          "metadata": {},
          "execution_count": 8
        }
      ],
      "source": [
        "df_train.isnull().sum()"
      ]
    },
    {
      "cell_type": "markdown",
      "metadata": {
        "id": "QhOwlyVx4SBZ"
      },
      "source": [
        "**Data Test**"
      ]
    },
    {
      "cell_type": "code",
      "execution_count": null,
      "metadata": {
        "colab": {
          "base_uri": "https://localhost:8080/"
        },
        "id": "jW-Z6cb94SBZ",
        "outputId": "bacbadc5-c8be-4521-e33b-8c150631bd75"
      },
      "outputs": [
        {
          "output_type": "execute_result",
          "data": {
            "text/plain": [
              "Jenis_Kelamin        0\n",
              "Umur                 0\n",
              "SIM                  0\n",
              "Kode_Daerah          0\n",
              "Sudah_Asuransi       0\n",
              "Umur_Kendaraan       0\n",
              "Kendaraan_Rusak      0\n",
              "Premi                0\n",
              "Kanal_Penjualan      0\n",
              "Lama_Berlangganan    0\n",
              "Tertarik             0\n",
              "dtype: int64"
            ]
          },
          "metadata": {},
          "execution_count": 9
        }
      ],
      "source": [
        "df_test.isnull().sum()"
      ]
    },
    {
      "cell_type": "markdown",
      "metadata": {
        "id": "80P_JEX34SBZ"
      },
      "source": [
        "Pada data test terlihat bahwa tidak ada data yang hilang/kosong sehingga kita dapat melanjutkan ke tahap berikutnya"
      ]
    },
    {
      "cell_type": "markdown",
      "metadata": {
        "id": "ThAyvt9M4SBa"
      },
      "source": [
        "### **Change Categorical to Numeric**"
      ]
    },
    {
      "cell_type": "markdown",
      "metadata": {
        "id": "syz-Awnd4SBa"
      },
      "source": [
        "Untuk mengubah data kategorikal menjadi numerik, disini kita akan menggunakan bantuan LabelEncoder dari sklearn"
      ]
    },
    {
      "cell_type": "code",
      "execution_count": null,
      "metadata": {
        "id": "71zbzpPA4SBa"
      },
      "outputs": [],
      "source": [
        "from sklearn.preprocessing import LabelEncoder\n",
        "\n",
        "def change_to_numeric(df,columns):\n",
        "    encode = LabelEncoder()\n",
        "    for col in columns:\n",
        "        df[col] = encode.fit_transform(df[col])\n",
        "    return df"
      ]
    },
    {
      "cell_type": "markdown",
      "metadata": {
        "id": "LVfLWUAD4SBa"
      },
      "source": [
        "**Data Train**"
      ]
    },
    {
      "cell_type": "code",
      "execution_count": null,
      "metadata": {
        "colab": {
          "base_uri": "https://localhost:8080/"
        },
        "id": "9utgrgrR4SBa",
        "outputId": "3701f7cc-2ff2-4ce1-937b-1cec536530ff"
      },
      "outputs": [
        {
          "output_type": "stream",
          "name": "stdout",
          "text": [
            "<class 'pandas.core.frame.DataFrame'>\n",
            "RangeIndex: 285831 entries, 0 to 285830\n",
            "Data columns (total 12 columns):\n",
            " #   Column             Non-Null Count   Dtype  \n",
            "---  ------             --------------   -----  \n",
            " 0   id                 285831 non-null  int64  \n",
            " 1   Jenis_Kelamin      285831 non-null  object \n",
            " 2   Umur               285831 non-null  float64\n",
            " 3   SIM                285831 non-null  float64\n",
            " 4   Kode_Daerah        285831 non-null  float64\n",
            " 5   Sudah_Asuransi     285831 non-null  float64\n",
            " 6   Umur_Kendaraan     285831 non-null  object \n",
            " 7   Kendaraan_Rusak    285831 non-null  object \n",
            " 8   Premi              285831 non-null  float64\n",
            " 9   Kanal_Penjualan    285831 non-null  float64\n",
            " 10  Lama_Berlangganan  285831 non-null  float64\n",
            " 11  Tertarik           285831 non-null  int64  \n",
            "dtypes: float64(7), int64(2), object(3)\n",
            "memory usage: 26.2+ MB\n"
          ]
        }
      ],
      "source": [
        "df_train.info()"
      ]
    },
    {
      "cell_type": "markdown",
      "metadata": {
        "id": "TpGZHe134SBa"
      },
      "source": [
        "Dari data train diatas terlihat masih ada data yang bertipe object sehingga kita perlu mengubah data tersebut menjadi data numerik "
      ]
    },
    {
      "cell_type": "code",
      "execution_count": null,
      "metadata": {
        "id": "fRpDDu7e4SBb"
      },
      "outputs": [],
      "source": [
        "columns = [\"Jenis_Kelamin\",\"Umur_Kendaraan\",\"Kendaraan_Rusak\"]\n",
        "df_train = change_to_numeric(df_train,columns)"
      ]
    },
    {
      "cell_type": "code",
      "execution_count": null,
      "metadata": {
        "colab": {
          "base_uri": "https://localhost:8080/"
        },
        "id": "F91bPMui4SBb",
        "outputId": "426d15d0-7a64-4caa-8dac-7f95ddd2f5ea"
      },
      "outputs": [
        {
          "output_type": "stream",
          "name": "stdout",
          "text": [
            "<class 'pandas.core.frame.DataFrame'>\n",
            "RangeIndex: 285831 entries, 0 to 285830\n",
            "Data columns (total 12 columns):\n",
            " #   Column             Non-Null Count   Dtype  \n",
            "---  ------             --------------   -----  \n",
            " 0   id                 285831 non-null  int64  \n",
            " 1   Jenis_Kelamin      285831 non-null  int64  \n",
            " 2   Umur               285831 non-null  float64\n",
            " 3   SIM                285831 non-null  float64\n",
            " 4   Kode_Daerah        285831 non-null  float64\n",
            " 5   Sudah_Asuransi     285831 non-null  float64\n",
            " 6   Umur_Kendaraan     285831 non-null  int64  \n",
            " 7   Kendaraan_Rusak    285831 non-null  int64  \n",
            " 8   Premi              285831 non-null  float64\n",
            " 9   Kanal_Penjualan    285831 non-null  float64\n",
            " 10  Lama_Berlangganan  285831 non-null  float64\n",
            " 11  Tertarik           285831 non-null  int64  \n",
            "dtypes: float64(7), int64(5)\n",
            "memory usage: 26.2 MB\n"
          ]
        }
      ],
      "source": [
        "df_train.info()"
      ]
    },
    {
      "cell_type": "markdown",
      "metadata": {
        "id": "a9_r_ByU4SBb"
      },
      "source": [
        "**Data Test**"
      ]
    },
    {
      "cell_type": "code",
      "execution_count": null,
      "metadata": {
        "colab": {
          "base_uri": "https://localhost:8080/"
        },
        "id": "Oek1wcn84SBb",
        "outputId": "05835e97-a3db-4d0d-9e59-4ce94dd88923"
      },
      "outputs": [
        {
          "output_type": "stream",
          "name": "stdout",
          "text": [
            "<class 'pandas.core.frame.DataFrame'>\n",
            "RangeIndex: 47639 entries, 0 to 47638\n",
            "Data columns (total 11 columns):\n",
            " #   Column             Non-Null Count  Dtype \n",
            "---  ------             --------------  ----- \n",
            " 0   Jenis_Kelamin      47639 non-null  object\n",
            " 1   Umur               47639 non-null  int64 \n",
            " 2   SIM                47639 non-null  int64 \n",
            " 3   Kode_Daerah        47639 non-null  int64 \n",
            " 4   Sudah_Asuransi     47639 non-null  int64 \n",
            " 5   Umur_Kendaraan     47639 non-null  object\n",
            " 6   Kendaraan_Rusak    47639 non-null  object\n",
            " 7   Premi              47639 non-null  int64 \n",
            " 8   Kanal_Penjualan    47639 non-null  int64 \n",
            " 9   Lama_Berlangganan  47639 non-null  int64 \n",
            " 10  Tertarik           47639 non-null  int64 \n",
            "dtypes: int64(8), object(3)\n",
            "memory usage: 4.0+ MB\n"
          ]
        }
      ],
      "source": [
        "df_test.info()"
      ]
    },
    {
      "cell_type": "markdown",
      "metadata": {
        "id": "3gnDcivO4SBb"
      },
      "source": [
        "Dari data test diatas terlihat masih ada data yang bertipe object sehingga kita perlu mengubah data tersebut menjadi data numerik "
      ]
    },
    {
      "cell_type": "code",
      "execution_count": null,
      "metadata": {
        "id": "K0KBm4Op4SBc"
      },
      "outputs": [],
      "source": [
        "columns = [\"Jenis_Kelamin\",\"Umur_Kendaraan\",\"Kendaraan_Rusak\"]\n",
        "df_test = change_to_numeric(df_test,columns)"
      ]
    },
    {
      "cell_type": "code",
      "execution_count": null,
      "metadata": {
        "colab": {
          "base_uri": "https://localhost:8080/"
        },
        "id": "AN9jNNE-4SBc",
        "outputId": "10853bb9-e77e-40fe-87f6-aa82825d050e"
      },
      "outputs": [
        {
          "output_type": "stream",
          "name": "stdout",
          "text": [
            "<class 'pandas.core.frame.DataFrame'>\n",
            "RangeIndex: 47639 entries, 0 to 47638\n",
            "Data columns (total 11 columns):\n",
            " #   Column             Non-Null Count  Dtype\n",
            "---  ------             --------------  -----\n",
            " 0   Jenis_Kelamin      47639 non-null  int64\n",
            " 1   Umur               47639 non-null  int64\n",
            " 2   SIM                47639 non-null  int64\n",
            " 3   Kode_Daerah        47639 non-null  int64\n",
            " 4   Sudah_Asuransi     47639 non-null  int64\n",
            " 5   Umur_Kendaraan     47639 non-null  int64\n",
            " 6   Kendaraan_Rusak    47639 non-null  int64\n",
            " 7   Premi              47639 non-null  int64\n",
            " 8   Kanal_Penjualan    47639 non-null  int64\n",
            " 9   Lama_Berlangganan  47639 non-null  int64\n",
            " 10  Tertarik           47639 non-null  int64\n",
            "dtypes: int64(11)\n",
            "memory usage: 4.0 MB\n"
          ]
        }
      ],
      "source": [
        "df_test.info()"
      ]
    },
    {
      "cell_type": "markdown",
      "metadata": {
        "id": "ztW7zAA14SBc"
      },
      "source": [
        "### **Handling Outliers Data**"
      ]
    },
    {
      "cell_type": "markdown",
      "metadata": {
        "id": "0A0OWIol4SBc"
      },
      "source": [
        "Untuk menangani data outlier, disini kita akan menghapus data outlier tersebut, lalu untuk mendapatkan data outlier kita akan menggunakan Interquartile Range(IQR)"
      ]
    },
    {
      "cell_type": "code",
      "execution_count": null,
      "metadata": {
        "id": "E_eI7gl04SBd"
      },
      "outputs": [],
      "source": [
        "def remove_outliers(df,columns):\n",
        "    for col in columns:\n",
        "        Q1 = df[col].quantile(0.25)\n",
        "        Q3 = df[col].quantile(0.75)\n",
        "    \n",
        "        IQR = Q3 - Q1\n",
        "    \n",
        "        UPPER = Q3 + 1.5*IQR\n",
        "        LOWER = Q1 - 1.5*IQR\n",
        "\n",
        "        df = df[(df[col] >= LOWER) & (df[col] <= UPPER)]\n",
        "    \n",
        "    return df"
      ]
    },
    {
      "cell_type": "markdown",
      "metadata": {
        "id": "Z0ladUdQ4SBd"
      },
      "source": [
        "**Data Train**"
      ]
    },
    {
      "cell_type": "code",
      "execution_count": null,
      "metadata": {
        "colab": {
          "base_uri": "https://localhost:8080/",
          "height": 364
        },
        "id": "yE71JC3N4SBd",
        "outputId": "f611931b-d623-4cbb-f633-1f82fa15d35f"
      },
      "outputs": [
        {
          "output_type": "execute_result",
          "data": {
            "text/html": [
              "\n",
              "  <div id=\"df-ae1c1d54-1581-46bb-b118-27b6db9ca55d\">\n",
              "    <div class=\"colab-df-container\">\n",
              "      <div>\n",
              "<style scoped>\n",
              "    .dataframe tbody tr th:only-of-type {\n",
              "        vertical-align: middle;\n",
              "    }\n",
              "\n",
              "    .dataframe tbody tr th {\n",
              "        vertical-align: top;\n",
              "    }\n",
              "\n",
              "    .dataframe thead th {\n",
              "        text-align: right;\n",
              "    }\n",
              "</style>\n",
              "<table border=\"1\" class=\"dataframe\">\n",
              "  <thead>\n",
              "    <tr style=\"text-align: right;\">\n",
              "      <th></th>\n",
              "      <th>id</th>\n",
              "      <th>Jenis_Kelamin</th>\n",
              "      <th>Umur</th>\n",
              "      <th>SIM</th>\n",
              "      <th>Kode_Daerah</th>\n",
              "      <th>Sudah_Asuransi</th>\n",
              "      <th>Umur_Kendaraan</th>\n",
              "      <th>Kendaraan_Rusak</th>\n",
              "      <th>Premi</th>\n",
              "      <th>Kanal_Penjualan</th>\n",
              "      <th>Lama_Berlangganan</th>\n",
              "      <th>Tertarik</th>\n",
              "    </tr>\n",
              "  </thead>\n",
              "  <tbody>\n",
              "    <tr>\n",
              "      <th>count</th>\n",
              "      <td>285831.000000</td>\n",
              "      <td>285831.000000</td>\n",
              "      <td>285831.000000</td>\n",
              "      <td>285831.000000</td>\n",
              "      <td>285831.000000</td>\n",
              "      <td>285831.000000</td>\n",
              "      <td>285831.000000</td>\n",
              "      <td>285831.000000</td>\n",
              "      <td>285831.000000</td>\n",
              "      <td>285831.000000</td>\n",
              "      <td>285831.000000</td>\n",
              "      <td>285831.000000</td>\n",
              "    </tr>\n",
              "    <tr>\n",
              "      <th>mean</th>\n",
              "      <td>142916.000000</td>\n",
              "      <td>0.436317</td>\n",
              "      <td>38.106147</td>\n",
              "      <td>0.997957</td>\n",
              "      <td>26.485220</td>\n",
              "      <td>0.435939</td>\n",
              "      <td>0.490542</td>\n",
              "      <td>0.470628</td>\n",
              "      <td>29114.260881</td>\n",
              "      <td>114.021530</td>\n",
              "      <td>154.468095</td>\n",
              "      <td>0.122471</td>\n",
              "    </tr>\n",
              "    <tr>\n",
              "      <th>std</th>\n",
              "      <td>82512.446734</td>\n",
              "      <td>0.495929</td>\n",
              "      <td>15.471865</td>\n",
              "      <td>0.045155</td>\n",
              "      <td>12.921482</td>\n",
              "      <td>0.495880</td>\n",
              "      <td>0.574280</td>\n",
              "      <td>0.499137</td>\n",
              "      <td>17803.527017</td>\n",
              "      <td>53.543345</td>\n",
              "      <td>81.624617</td>\n",
              "      <td>0.327830</td>\n",
              "    </tr>\n",
              "    <tr>\n",
              "      <th>min</th>\n",
              "      <td>1.000000</td>\n",
              "      <td>0.000000</td>\n",
              "      <td>20.000000</td>\n",
              "      <td>0.000000</td>\n",
              "      <td>0.000000</td>\n",
              "      <td>0.000000</td>\n",
              "      <td>0.000000</td>\n",
              "      <td>0.000000</td>\n",
              "      <td>2630.000000</td>\n",
              "      <td>1.000000</td>\n",
              "      <td>10.000000</td>\n",
              "      <td>0.000000</td>\n",
              "    </tr>\n",
              "    <tr>\n",
              "      <th>25%</th>\n",
              "      <td>71458.500000</td>\n",
              "      <td>0.000000</td>\n",
              "      <td>24.000000</td>\n",
              "      <td>1.000000</td>\n",
              "      <td>15.000000</td>\n",
              "      <td>0.000000</td>\n",
              "      <td>0.000000</td>\n",
              "      <td>0.000000</td>\n",
              "      <td>22311.000000</td>\n",
              "      <td>55.000000</td>\n",
              "      <td>85.000000</td>\n",
              "      <td>0.000000</td>\n",
              "    </tr>\n",
              "    <tr>\n",
              "      <th>50%</th>\n",
              "      <td>142916.000000</td>\n",
              "      <td>0.000000</td>\n",
              "      <td>34.000000</td>\n",
              "      <td>1.000000</td>\n",
              "      <td>28.000000</td>\n",
              "      <td>0.000000</td>\n",
              "      <td>0.000000</td>\n",
              "      <td>0.000000</td>\n",
              "      <td>30949.000000</td>\n",
              "      <td>152.000000</td>\n",
              "      <td>158.000000</td>\n",
              "      <td>0.000000</td>\n",
              "    </tr>\n",
              "    <tr>\n",
              "      <th>75%</th>\n",
              "      <td>214373.500000</td>\n",
              "      <td>1.000000</td>\n",
              "      <td>49.000000</td>\n",
              "      <td>1.000000</td>\n",
              "      <td>35.000000</td>\n",
              "      <td>1.000000</td>\n",
              "      <td>1.000000</td>\n",
              "      <td>1.000000</td>\n",
              "      <td>38845.000000</td>\n",
              "      <td>152.000000</td>\n",
              "      <td>223.000000</td>\n",
              "      <td>0.000000</td>\n",
              "    </tr>\n",
              "    <tr>\n",
              "      <th>max</th>\n",
              "      <td>285831.000000</td>\n",
              "      <td>1.000000</td>\n",
              "      <td>85.000000</td>\n",
              "      <td>1.000000</td>\n",
              "      <td>52.000000</td>\n",
              "      <td>1.000000</td>\n",
              "      <td>2.000000</td>\n",
              "      <td>1.000000</td>\n",
              "      <td>540165.000000</td>\n",
              "      <td>163.000000</td>\n",
              "      <td>299.000000</td>\n",
              "      <td>1.000000</td>\n",
              "    </tr>\n",
              "  </tbody>\n",
              "</table>\n",
              "</div>\n",
              "      <button class=\"colab-df-convert\" onclick=\"convertToInteractive('df-ae1c1d54-1581-46bb-b118-27b6db9ca55d')\"\n",
              "              title=\"Convert this dataframe to an interactive table.\"\n",
              "              style=\"display:none;\">\n",
              "        \n",
              "  <svg xmlns=\"http://www.w3.org/2000/svg\" height=\"24px\"viewBox=\"0 0 24 24\"\n",
              "       width=\"24px\">\n",
              "    <path d=\"M0 0h24v24H0V0z\" fill=\"none\"/>\n",
              "    <path d=\"M18.56 5.44l.94 2.06.94-2.06 2.06-.94-2.06-.94-.94-2.06-.94 2.06-2.06.94zm-11 1L8.5 8.5l.94-2.06 2.06-.94-2.06-.94L8.5 2.5l-.94 2.06-2.06.94zm10 10l.94 2.06.94-2.06 2.06-.94-2.06-.94-.94-2.06-.94 2.06-2.06.94z\"/><path d=\"M17.41 7.96l-1.37-1.37c-.4-.4-.92-.59-1.43-.59-.52 0-1.04.2-1.43.59L10.3 9.45l-7.72 7.72c-.78.78-.78 2.05 0 2.83L4 21.41c.39.39.9.59 1.41.59.51 0 1.02-.2 1.41-.59l7.78-7.78 2.81-2.81c.8-.78.8-2.07 0-2.86zM5.41 20L4 18.59l7.72-7.72 1.47 1.35L5.41 20z\"/>\n",
              "  </svg>\n",
              "      </button>\n",
              "      \n",
              "  <style>\n",
              "    .colab-df-container {\n",
              "      display:flex;\n",
              "      flex-wrap:wrap;\n",
              "      gap: 12px;\n",
              "    }\n",
              "\n",
              "    .colab-df-convert {\n",
              "      background-color: #E8F0FE;\n",
              "      border: none;\n",
              "      border-radius: 50%;\n",
              "      cursor: pointer;\n",
              "      display: none;\n",
              "      fill: #1967D2;\n",
              "      height: 32px;\n",
              "      padding: 0 0 0 0;\n",
              "      width: 32px;\n",
              "    }\n",
              "\n",
              "    .colab-df-convert:hover {\n",
              "      background-color: #E2EBFA;\n",
              "      box-shadow: 0px 1px 2px rgba(60, 64, 67, 0.3), 0px 1px 3px 1px rgba(60, 64, 67, 0.15);\n",
              "      fill: #174EA6;\n",
              "    }\n",
              "\n",
              "    [theme=dark] .colab-df-convert {\n",
              "      background-color: #3B4455;\n",
              "      fill: #D2E3FC;\n",
              "    }\n",
              "\n",
              "    [theme=dark] .colab-df-convert:hover {\n",
              "      background-color: #434B5C;\n",
              "      box-shadow: 0px 1px 3px 1px rgba(0, 0, 0, 0.15);\n",
              "      filter: drop-shadow(0px 1px 2px rgba(0, 0, 0, 0.3));\n",
              "      fill: #FFFFFF;\n",
              "    }\n",
              "  </style>\n",
              "\n",
              "      <script>\n",
              "        const buttonEl =\n",
              "          document.querySelector('#df-ae1c1d54-1581-46bb-b118-27b6db9ca55d button.colab-df-convert');\n",
              "        buttonEl.style.display =\n",
              "          google.colab.kernel.accessAllowed ? 'block' : 'none';\n",
              "\n",
              "        async function convertToInteractive(key) {\n",
              "          const element = document.querySelector('#df-ae1c1d54-1581-46bb-b118-27b6db9ca55d');\n",
              "          const dataTable =\n",
              "            await google.colab.kernel.invokeFunction('convertToInteractive',\n",
              "                                                     [key], {});\n",
              "          if (!dataTable) return;\n",
              "\n",
              "          const docLinkHtml = 'Like what you see? Visit the ' +\n",
              "            '<a target=\"_blank\" href=https://colab.research.google.com/notebooks/data_table.ipynb>data table notebook</a>'\n",
              "            + ' to learn more about interactive tables.';\n",
              "          element.innerHTML = '';\n",
              "          dataTable['output_type'] = 'display_data';\n",
              "          await google.colab.output.renderOutput(dataTable, element);\n",
              "          const docLink = document.createElement('div');\n",
              "          docLink.innerHTML = docLinkHtml;\n",
              "          element.appendChild(docLink);\n",
              "        }\n",
              "      </script>\n",
              "    </div>\n",
              "  </div>\n",
              "  "
            ],
            "text/plain": [
              "                  id  Jenis_Kelamin  ...  Lama_Berlangganan       Tertarik\n",
              "count  285831.000000  285831.000000  ...      285831.000000  285831.000000\n",
              "mean   142916.000000       0.436317  ...         154.468095       0.122471\n",
              "std     82512.446734       0.495929  ...          81.624617       0.327830\n",
              "min         1.000000       0.000000  ...          10.000000       0.000000\n",
              "25%     71458.500000       0.000000  ...          85.000000       0.000000\n",
              "50%    142916.000000       0.000000  ...         158.000000       0.000000\n",
              "75%    214373.500000       1.000000  ...         223.000000       0.000000\n",
              "max    285831.000000       1.000000  ...         299.000000       1.000000\n",
              "\n",
              "[8 rows x 12 columns]"
            ]
          },
          "metadata": {},
          "execution_count": 18
        }
      ],
      "source": [
        "df_train.describe()"
      ]
    },
    {
      "cell_type": "markdown",
      "metadata": {
        "id": "jLvgxLxI4SBd"
      },
      "source": [
        "Dari data diatas, terlihat bahwa data max pada kolom \"Premi\" selisihnya sangat jauh dibanding dengan data 75% atau Q3 sehingga kemungkinan terdapat data outlier pada kolom \"Premi\".\n",
        "<br>\n",
        "Untuk melihat apakah ada data outlier, kita akan menggunakan boxplot"
      ]
    },
    {
      "cell_type": "code",
      "execution_count": null,
      "metadata": {
        "colab": {
          "base_uri": "https://localhost:8080/",
          "height": 390
        },
        "id": "9HmXZGv_4SBd",
        "outputId": "98cd83f7-d2b8-474b-bc20-d82455df618e"
      },
      "outputs": [
        {
          "output_type": "display_data",
          "data": {
            "image/png": "[encoded data removed]",
            "text/plain": [
              "<Figure size 576x432 with 1 Axes>"
            ]
          },
          "metadata": {
            "needs_background": "light"
          }
        }
      ],
      "source": [
        "import matplotlib.pyplot as plt\n",
        "\n",
        "plt.figure(figsize=(8,6))\n",
        "\n",
        "plt.boxplot(df_train[\"Premi\"])\n",
        "plt.title(\"Data 'Premi'\")\n",
        "\n",
        "plt.show()"
      ]
    },
    {
      "cell_type": "markdown",
      "metadata": {
        "id": "0HwgC_Jm4SBd"
      },
      "source": [
        "Seperti yang terlihat dari plot diatas, pada data \"Premi\" memang terdapat data oulier sehingga kita perlu menangani data tersebut dengan cara menghapus data outlier tersebut"
      ]
    },
    {
      "cell_type": "code",
      "execution_count": null,
      "metadata": {
        "id": "Ru1C-dtf4SBe"
      },
      "outputs": [],
      "source": [
        "columns = [\"Premi\"]\n",
        "df_train = remove_outliers(df_train,columns)"
      ]
    },
    {
      "cell_type": "code",
      "execution_count": null,
      "metadata": {
        "colab": {
          "base_uri": "https://localhost:8080/",
          "height": 281
        },
        "id": "icj2QQ7J4SBe",
        "outputId": "24ab45b8-39eb-4747-b5b2-8445b6cad1bf"
      },
      "outputs": [
        {
          "output_type": "display_data",
          "data": {
            "image/png": "[encoded data removed]",
            "text/plain": [
              "<Figure size 432x288 with 1 Axes>"
            ]
          },
          "metadata": {
            "needs_background": "light"
          }
        }
      ],
      "source": [
        "plt.boxplot(df_train[\"Premi\"])\n",
        "plt.title(\"Data 'Premi' setelah dihapus outliers\")\n",
        "\n",
        "plt.show()"
      ]
    },
    {
      "cell_type": "markdown",
      "metadata": {
        "id": "TmvK73cw56PN"
      },
      "source": [
        "### **Save Data Train and Data Test After Data Pre-processing**"
      ]
    },
    {
      "cell_type": "markdown",
      "metadata": {
        "id": "38ZsW27u6yr8"
      },
      "source": [
        "**Data Train**"
      ]
    },
    {
      "cell_type": "code",
      "execution_count": null,
      "metadata": {
        "id": "-wXyDhQQ6Jua"
      },
      "outputs": [],
      "source": [
        "df_train.to_csv(\"kendaraan_train_preprocessing.csv\",index=False)"
      ]
    },
    {
      "cell_type": "markdown",
      "metadata": {
        "id": "FPvLGL3R7AJj"
      },
      "source": [
        "**Data Test**"
      ]
    },
    {
      "cell_type": "code",
      "execution_count": null,
      "metadata": {
        "id": "t2hC_evu7FIj"
      },
      "outputs": [],
      "source": [
        "df_test.to_csv(\"kendaraan_test_preprocessing.csv\",index=False)"
      ]
    },
    {
      "cell_type": "markdown",
      "metadata": {
        "id": "u1tDySbZ4SBe"
      },
      "source": [
        "## **Handling Imbalance Data**"
      ]
    },
    {
      "cell_type": "markdown",
      "metadata": {
        "id": "vei2xmbG4SBe"
      },
      "source": [
        "**Data Train**"
      ]
    },
    {
      "cell_type": "code",
      "execution_count": null,
      "metadata": {
        "colab": {
          "base_uri": "https://localhost:8080/",
          "height": 264
        },
        "id": "UtP-TrvN4SBe",
        "outputId": "bb54549f-1cfe-4f4a-e5dd-5e77d94a8894"
      },
      "outputs": [
        {
          "output_type": "display_data",
          "data": {
            "image/png": "[encoded data removed]",
            "text/plain": [
              "<Figure size 432x288 with 1 Axes>"
            ]
          },
          "metadata": {}
        }
      ],
      "source": [
        "class0 = df_train[df_train[\"Tertarik\"]==0]\n",
        "class1 = df_train[df_train[\"Tertarik\"]==1]\n",
        "\n",
        "count_class0 = class0.shape[0]\n",
        "count_class1 = class1.shape[0]\n",
        "\n",
        "x = [count_class0, count_class1]\n",
        "plt.pie(x, labels=[\"Class 0\",\"Class 1\"], autopct=\"%.2f%%\")\n",
        "plt.title(\"Perbandingan data antar class\")\n",
        "plt.legend()\n",
        "plt.show()"
      ]
    },
    {
      "cell_type": "markdown",
      "metadata": {
        "id": "dRLGBlGb4SBe"
      },
      "source": [
        "Dari plot diatas, terlihat bahwa data class 0 dan class 1 tidak seimbang dimana data class 0 sebesar 87.82% dan data class 1 sebesar 12.18%. <br>\n",
        "Oleh karena itu, kita perlu menangani data yang tidak seimbang tersebut, disini kita akan menangani menggunakan Random Oversampling atau Random Undersampling"
      ]
    },
    {
      "cell_type": "markdown",
      "metadata": {
        "id": "9hFaIQzT4SBf"
      },
      "source": [
        "![random sampling](https://miro.medium.com/max/906/0*u6pKLqdCDsG_5kXa.png)\n",
        "<br>\n",
        "[Sumber Foto](https://www.kdnuggets.com/2019/09/5-sampling-algorithms.html)"
      ]
    },
    {
      "cell_type": "markdown",
      "metadata": {
        "id": "5q-eRTQR4SBf"
      },
      "source": [
        "**Random Undersampling** adalah memilih data sample secara acak pada data mayoritas sebanyak data minoritas. <br>\n",
        "**Random Oversampling** adalah memilih data sample secara acak pada data minoritas sebanyak data mayoritas. <br>"
      ]
    },
    {
      "cell_type": "markdown",
      "metadata": {
        "id": "HgsgiD6Y4SBf"
      },
      "source": [
        "Karena metode Random Undersampling akan menghilangkan atau menghapus sebagian data, maka kita akan mengecek terlebih dahulu seberapa besar kita akan kehilangan data setelah melakukan Random Undersampling"
      ]
    },
    {
      "cell_type": "code",
      "execution_count": null,
      "metadata": {
        "colab": {
          "base_uri": "https://localhost:8080/",
          "height": 482
        },
        "id": "b1mDl_t94SBf",
        "outputId": "489e5abe-7b80-48e1-e51b-42efe7549e52"
      },
      "outputs": [
        {
          "output_type": "display_data",
          "data": {
            "image/png": "[encoded data removed]",
            "text/plain": [
              "<Figure size 720x576 with 2 Axes>"
            ]
          },
          "metadata": {}
        }
      ],
      "source": [
        "class0_under = count_class1\n",
        "\n",
        "plt.figure(figsize=(10,8))\n",
        "\n",
        "y1 = [class0_under ,(count_class0 - count_class1)]\n",
        "plt.subplot(2,1,1)\n",
        "plt.pie(y1, labels=[\"Class 0\",\"Drop Data\"],explode=[0,0.2], autopct=\"%.2f%%\")\n",
        "plt.title(\"Perbandingan data class 0 setelah undersampling\")\n",
        "plt.legend()\n",
        "\n",
        "y2 = [class0_under, count_class1, (count_class0 - count_class1)]\n",
        "plt.subplot(2,1,2)\n",
        "plt.pie(y2, labels=[\"Class 0\",\"Class 1\",\"Drop Data\"], explode=[0,0,0.2],autopct=\"%.2f%%\")\n",
        "plt.title(\"Perbandingan data setelah undersampling terhadap seluruh data\")\n",
        "plt.legend()\n",
        "\n",
        "plt.show()"
      ]
    },
    {
      "cell_type": "markdown",
      "metadata": {
        "id": "oiw6ecF04SBf"
      },
      "source": [
        "Dari plot diatas, jika kita melakukan undersampling, maka kita akan kehilangan data class 0 sebesar 86.12% atau sebesar 75.63% dari seluruh data"
      ]
    },
    {
      "cell_type": "markdown",
      "metadata": {
        "id": "bTPmjXYD4SBf"
      },
      "source": [
        "Karena kita akan kehilangan data class 0 yang besar, maka kita akan menggunakan Random Oversampling untuk menangani data yang tidak seimbang"
      ]
    },
    {
      "cell_type": "code",
      "execution_count": null,
      "metadata": {
        "id": "yZKCBMZB4SBf"
      },
      "outputs": [],
      "source": [
        "class0 = df_train[df_train[\"Tertarik\"]==0]\n",
        "class1 = df_train[df_train[\"Tertarik\"]==1]\n",
        "\n",
        "count_class0 = class0.shape[0]\n",
        "count_class1 = class1.shape[0]\n",
        "\n",
        "class1_over = class1.sample(n=count_class0, replace=True)\n",
        "\n",
        "df_train = pd.concat([class1_over,class0], ignore_index=True)"
      ]
    },
    {
      "cell_type": "code",
      "execution_count": null,
      "metadata": {
        "colab": {
          "base_uri": "https://localhost:8080/",
          "height": 264
        },
        "id": "d9AKY3-X4SBg",
        "outputId": "c129e17a-cdb2-4351-d0a1-5f0ef13e0562"
      },
      "outputs": [
        {
          "output_type": "display_data",
          "data": {
            "image/png": "[encoded data removed]",
            "text/plain": [
              "<Figure size 432x288 with 1 Axes>"
            ]
          },
          "metadata": {}
        }
      ],
      "source": [
        "x = df_train[\"Tertarik\"].value_counts().values\n",
        "label = [\"Class 0\",\"Class 1\"]\n",
        "plt.pie(x, labels=label, autopct=\"%.2f%%\",startangle=90)\n",
        "plt.title(\"Perbandingan data antar class\")\n",
        "plt.legend()\n",
        "plt.show()"
      ]
    },
    {
      "cell_type": "markdown",
      "metadata": {
        "id": "-EyJWxG-7170"
      },
      "source": [
        "## **Split Data Train**"
      ]
    },
    {
      "cell_type": "markdown",
      "metadata": {
        "id": "2WwYWBQi8CwC"
      },
      "source": [
        "Karena kita telah memiliki data test, maka kita hanya akan membagi data train menjadi data train sebesar 80% dan data validation sebesar 20%"
      ]
    },
    {
      "cell_type": "code",
      "execution_count": null,
      "metadata": {
        "id": "s5C9HzSH4SBg"
      },
      "outputs": [],
      "source": [
        "state = 42\n",
        "df_validation = df_train.sample(frac=0.2,random_state=state)\n",
        "df_train = df_train.drop(df_validation.index)"
      ]
    },
    {
      "cell_type": "code",
      "execution_count": null,
      "metadata": {
        "colab": {
          "base_uri": "https://localhost:8080/"
        },
        "id": "rkTZ-tz4-Bgk",
        "outputId": "9a22844d-0cd0-4648-a255-b4e69865e8ac"
      },
      "outputs": [
        {
          "output_type": "stream",
          "name": "stdout",
          "text": [
            "Validation = (98208, 12)\n",
            "Data Train = (392834, 12)\n"
          ]
        }
      ],
      "source": [
        "print(f\"Validation = {df_validation.shape}\")\n",
        "print(f\"Data Train = {df_train.shape}\")"
      ]
    },
    {
      "cell_type": "markdown",
      "metadata": {
        "id": "nFr2YSTI_led"
      },
      "source": [
        "# **Pemodelan**"
      ]
    },
    {
      "cell_type": "markdown",
      "metadata": {
        "id": "E8AN8RmW_pxc"
      },
      "source": [
        "Untuk tugas classification kali ini, kita akan menggunakan model Decision Tree"
      ]
    },
    {
      "cell_type": "markdown",
      "metadata": {
        "id": "0NpMhJwxMgGD"
      },
      "source": [
        "## **Decision Tree**"
      ]
    },
    {
      "cell_type": "code",
      "execution_count": null,
      "metadata": {
        "id": "PiUT4e5X3Dx4"
      },
      "outputs": [],
      "source": [
        "# Fungsi check_purity digunakan untuk menentukan\n",
        "# apakah data sudah pure atau belum\n",
        "\n",
        "def check_purity(label):\n",
        "    unique = np.unique(label)\n",
        "    if len(unique) == 1:\n",
        "        return True\n",
        "    else:\n",
        "        return False"
      ]
    },
    {
      "cell_type": "code",
      "execution_count": null,
      "metadata": {
        "id": "bwEy5ZM8I5Zn"
      },
      "outputs": [],
      "source": [
        "# Fungsi classify_data digunakan untuk melakukan\n",
        "# klasifikasi pada data, jika label memiliki\n",
        "# lebih dari 1 nilai maka akan diambil yang\n",
        "# terbanyak atau mayoritas\n",
        "\n",
        "def classify_data(data):\n",
        "    label = data[:,-1]\n",
        "    class_label,count = np.unique(label,return_counts=True)\n",
        "    index_majority = np.argmax(count)\n",
        "    \n",
        "    classify = class_label[index_majority]\n",
        "    return classify"
      ]
    },
    {
      "cell_type": "markdown",
      "source": [
        "Rumus Entropy<br>\n",
        "![Rumus Entropy](https://github.com/helmy-faishal/tugas-classification/blob/main/Gambar_Pendukung/entropy.png?raw=true) <br>\n",
        "* c   : jumlah nilai yang ada pada atribut target (jumlah kelas klasifikasi). <br>\n",
        "* pi  : porsi sampel untuk kelas i.\n"
      ],
      "metadata": {
        "id": "pxPX6Z4aZ19C"
      }
    },
    {
      "cell_type": "code",
      "execution_count": null,
      "metadata": {
        "id": "khdkS0ShprZz"
      },
      "outputs": [],
      "source": [
        "# Fungsi entropy digunakan untuk\n",
        "# Menghitung nilai entropy data\n",
        "\n",
        "def entropy(data):  \n",
        "    if data.ndim == 1:\n",
        "        target = data\n",
        "    else:\n",
        "        target = data[:,-1]\n",
        "    _,counts = np.unique(target,return_counts=True)\n",
        "    \n",
        "    probabilities = counts/np.sum(counts)\n",
        "    \n",
        "    entropy_value = 0\n",
        "    for p in probabilities:\n",
        "        if p>0:\n",
        "            entropy_value += p*np.log2(p)\n",
        "    \n",
        "    return -entropy_value"
      ]
    },
    {
      "cell_type": "markdown",
      "source": [
        "Rumus Information Gain<br>\n",
        "![Rumus information gain](https://github.com/helmy-faishal/tugas-classification/blob/main/Gambar_Pendukung/information_gain.png?raw=true) <br>\n",
        "* A : atribut <br>\n",
        "* V : menyatakan suatu nilai yang mungkin untuk atribut A <br>\n",
        "* Values(A) : himpunan nilai-nilai yang mungkin untuk atribut A <br>\n",
        "* |Sv| : jumlah sampel untuk nilai v <br>\n",
        "* |S| : jumlah seluruh sampel data <br>\n",
        "* Entropy(Sv) : entropy untuk sampel-sampel yang memiliki nilai v <br>"
      ],
      "metadata": {
        "id": "KZvJSIPGad6r"
      }
    },
    {
      "cell_type": "code",
      "execution_count": null,
      "metadata": {
        "id": "O4HEbPV9pflN"
      },
      "outputs": [],
      "source": [
        "# Fungsi information_gain digunakan untuk menghitung\n",
        "# nilai information gain dari kolom/fitur data atau\n",
        "# information gain dari data dan sub_data\n",
        "\n",
        "def information_gain(data,*sub_data,column_index=None):\n",
        "    entropy_data = entropy(data)\n",
        "    \n",
        "    if len(sub_data)>0:\n",
        "        entropy_sub_data = 0\n",
        "        for sub in sub_data:\n",
        "            p_sub = len(sub)/len(data)\n",
        "            entropy_sub_data += p_sub*entropy(sub)\n",
        "    else:\n",
        "        selected_feature = data[:,column_index]\n",
        "        unique_value = np.unique(selected_feature)\n",
        "        entropy_sub_data = 0\n",
        "        for value in unique_value:\n",
        "            attr = data[selected_feature==value]\n",
        "            entropy_attr = len(attr)/len(selected_feature)*entropy(attr)\n",
        "            entropy_sub_data += entropy_attr\n",
        "    \n",
        "    information_gain = entropy_data - entropy_sub_data\n",
        "    return information_gain"
      ]
    },
    {
      "cell_type": "code",
      "execution_count": null,
      "metadata": {
        "id": "3RrQoHaVA3fA"
      },
      "outputs": [],
      "source": [
        "# Fungsi get_best_split digunakan untuk mendapatkan\n",
        "# kolom/fitur serta nilai yang terbaik untuk \n",
        "# melakukan split data\n",
        "\n",
        "def get_best_split(data):\n",
        "    best_feature = None\n",
        "    split_value = None\n",
        "\n",
        "    # Disini akan menentukan fitur/kolom mana dengan\n",
        "    # nilai information gain terbaik\n",
        "    best_info_gain = -1\n",
        "    for col_index in range(data.shape[1]-1):\n",
        "\n",
        "        # jika kolom sudah pernah terpilih maka tidak akan\n",
        "        # ikut dihitung information gain-nya\n",
        "        if np.all(data[:,col_index] == np.inf):\n",
        "            continue\n",
        "        \n",
        "        # menghitung dan menentukan kolom dengan information gain terbaik\n",
        "        info_gain = information_gain(data,column_index=col_index)\n",
        "        if info_gain > best_info_gain:\n",
        "            best_info_gain = info_gain\n",
        "            best_feature = col_index\n",
        "    # jika information gain-nya <=0 maka akan dikembalikan\n",
        "    # nilai None,None yang menandakan bahwa tidak ada\n",
        "    # kolom/fitur serta nilai split dengan information gain terbaik\n",
        "    if best_info_gain <= 0:\n",
        "        return None,None\n",
        "    \n",
        "    # menentukan nilai split terbaik pada kolom/fitur \n",
        "    # yang terpilih menggunakan information gain\n",
        "    feature = data[:,best_feature]\n",
        "    best_info_gain = -1\n",
        "    # melakukan pengecekan setiap nilai unik pada fitur terpilih\n",
        "    for value in np.unique(feature):\n",
        "        # memisahkan data berdasarkan nilai split\n",
        "        # left untuk data dengan nilai pada fitur <= nilai \n",
        "        # left untuk data dengan nilai pada fitur <= nilai \n",
        "        left = data[feature <= value]\n",
        "        right = data[feature > value]\n",
        "\n",
        "        # mengecek apakah data left atau right tidak 0\n",
        "        # karena jika berjumlah 0 maka seperti tidak membagi data\n",
        "        if len(left)>0 and len(right)>0:\n",
        "            # menghitung dan menentukan nilai split dengan\n",
        "            # information gain yang terbaik\n",
        "            info_gain = information_gain(data,left,right)\n",
        "            if info_gain > best_info_gain:\n",
        "                best_info_gain = info_gain\n",
        "                split_value = value\n",
        "            \n",
        "    # mengembalikan kolom/fitur terbaik dan nilai split terbaik\n",
        "    return best_feature,split_value"
      ]
    },
    {
      "cell_type": "code",
      "execution_count": null,
      "metadata": {
        "id": "XZ8fDfCXJDWS"
      },
      "outputs": [],
      "source": [
        "def grow_tree(data,depth,max_depth,min_samples):\n",
        "    # Menentukan apakah ada kondisi yang terpenuhi atau tidak\n",
        "    # Jika ada akan menghentikan pengembangan decision tree\n",
        "    # lalu mengembalikan klasifikasi data\n",
        "    if (check_purity(data) or depth>max_depth or len(data)<min_samples):\n",
        "        return classify_data(data)\n",
        "    \n",
        "    # Mendapatkan fitur terbaik dan nilai split terbaik\n",
        "    best_feat,split_value = get_best_split(data)\n",
        "\n",
        "    # Jika tidak ada fitur terbaik atau nilai split terbaik\n",
        "    # maka akan mengembalikan klasifikasi data\n",
        "    if best_feat==None or split_value==None:\n",
        "        return classify_data(data)\n",
        "\n",
        "    # membuat node\n",
        "    rules = f\"feature-{best_feat} <= {split_value}\"\n",
        "    node = {rules:[]}\n",
        "    \n",
        "    # menyimpan fitur terpilh\n",
        "    selected_feature = data[:,best_feat]\n",
        "    # memisahkan data berdasarkan fitur terpilih\n",
        "    # serta nilai split yang telah ditentukan\n",
        "    data_left = data[selected_feature<=split_value]\n",
        "    data_right = data[selected_feature>split_value]\n",
        "    \n",
        "    # mengecek apakah jumlah data left atau right adalah 0\n",
        "    # karena jika berjumlah 0 maka seperti tidak membagi data\n",
        "    # jika ternyata jumlahnya adalah 0 maka akan langsung\n",
        "    # mengembalikan klasifikasi data\n",
        "    if len(data_left) == 0 or len(data_right) == 0:\n",
        "        return classify_data(data)\n",
        "\n",
        "    # memberi tanda pada fitur terpilih agar tidak terpilih kembali\n",
        "    data_left[:,best_feat] = np.inf\n",
        "    data_right[:,best_feat] = np.inf\n",
        "\n",
        "    # mengembangkan cabang kiri dan kanan pada decision tree\n",
        "    depth += 1\n",
        "    node_left = grow_tree(data_left,depth,max_depth,min_samples)\n",
        "    node_right = grow_tree(data_right,depth,max_depth,min_samples)\n",
        "\n",
        "    # jika ternyata cabang kiri dan kanan sama\n",
        "    # maka akan mengembalikan salah satu cabang\n",
        "    if node_left==node_right:\n",
        "        return node_left\n",
        "    \n",
        "    # memasukkan cabang ke dalam node\n",
        "    node[rules].append(node_left)\n",
        "    node[rules].append(node_right)\n",
        "    \n",
        "    # mengembalikan node\n",
        "    return node"
      ]
    },
    {
      "cell_type": "code",
      "execution_count": null,
      "metadata": {
        "id": "6uB3S6vgJIN7"
      },
      "outputs": [],
      "source": [
        "def decision_tree(train,label,max_depth=None,min_samples=None):\n",
        "    # mengubah data train dan label menjadi array\n",
        "    train = np.array(train)\n",
        "    label = np.array(label)\n",
        "\n",
        "    # mengecek apakah parameter max_depth adalah default\n",
        "    if max_depth == None:\n",
        "        max_depth = float(\"inf\")\n",
        "\n",
        "    # mengecek apakah parameter min_samples adalah float\n",
        "    if isinstance(min_samples,float):\n",
        "        if min_samples > 1:\n",
        "            min_samples = int(min_samples)\n",
        "        else:\n",
        "            min_samples = round(len(train)*min_samples)\n",
        "    \n",
        "    # mengecek apakah parameter min_samples adalah integer\n",
        "    if isinstance(min_samples,int):\n",
        "        if min_samples > len(train):\n",
        "            raise ValueError(\"Error: jumlah min_samples > jumlah data train\")\n",
        "        min_samples = min_samples\n",
        "\n",
        "    # mengecek apakah parameter min_samples adalah default\n",
        "    if min_samples == None:\n",
        "        min_samples = len(np.unique(label))+1\n",
        "    \n",
        "    # mengecek apakah hanya ada 1 fitur pada data train atau\n",
        "    # data train merupakan array 1 dimensi\n",
        "    if train.ndim == 1:\n",
        "        train = train.reshape(-1,1)\n",
        "    \n",
        "    # menggabungkan data train dengan data label\n",
        "    # untuk mempermudah perhitungan\n",
        "    data = np.concatenate((train,label.reshape(-1,1)),axis=1)\n",
        "    \n",
        "    # mengembangkan cabang pada decision tree\n",
        "    depth = 0\n",
        "    tree = grow_tree(data,depth,max_depth,min_samples)\n",
        "    return tree"
      ]
    },
    {
      "cell_type": "code",
      "execution_count": null,
      "metadata": {
        "id": "rL9pYoCgJLb2"
      },
      "outputs": [],
      "source": [
        "def classify_node(node,data):\n",
        "    # mengecek apakah node masih memiliki cabang\n",
        "    if isinstance(node,dict):\n",
        "        rules = list(node.keys())[0]\n",
        "        column_name,operator,value = rules.split(\" \")\n",
        "        _,column = column_name.split(\"-\")\n",
        "        data_value = data[:,int(column)][0]\n",
        "        # melakukan pengecekan apakah nilai data input sesuai dengan nilai node\n",
        "        # jika sesuai maka akan ke cabang kiri\n",
        "        if eval(f\"{data_value}{operator}{value}\"):\n",
        "            return classify_node(node[rules][0],data)\n",
        "        # jika tidak sesuai maka akan ke cabang kanan\n",
        "        else:\n",
        "            return classify_node(node[rules][1],data)\n",
        "    # jika node tidak memiliki cabang maka akan\n",
        "    # mengembalikan nilai pada node\n",
        "    else:\n",
        "        return node"
      ]
    },
    {
      "cell_type": "code",
      "execution_count": null,
      "metadata": {
        "id": "wnZBTK9LJaly"
      },
      "outputs": [],
      "source": [
        "def predict(tree,data):\n",
        "    # Mengubah data input menjadi array\n",
        "    data = np.array(data)\n",
        "    # Melakukan prediksi untuk setiap data input\n",
        "    prediction = []\n",
        "    for X in data:\n",
        "        X = np.array(X).reshape(1,-1)\n",
        "        predicted = classify_node(tree,X)\n",
        "        prediction.append(predicted)\n",
        "    return prediction"
      ]
    },
    {
      "cell_type": "code",
      "execution_count": null,
      "metadata": {
        "id": "pzpJnaO8JtY7"
      },
      "outputs": [],
      "source": [
        "def print_tree(tree,column_name=None,depth=0):\n",
        "    branch1 = \"|    \"\n",
        "    branch2 = \"|   |\"\n",
        "    branch3 = \"    |\"\n",
        "    branch4 = \"     \"\n",
        "    \n",
        "    if isinstance(tree,dict):\n",
        "        rules = list(tree.keys())[0]\n",
        "        if column_name is not None:\n",
        "            feature,operator,value = rules.split(\" \")\n",
        "            _,index = feature.split(\"-\")\n",
        "            value = column_name[int(index)]+operator+value\n",
        "        else:\n",
        "            value = rules\n",
        "            \n",
        "        if depth==0:\n",
        "            print(f\"|---{value}\")\n",
        "        elif depth==1:\n",
        "            print(branch2 + f\"---{value}\")\n",
        "        else:\n",
        "            print(branch1 +branch3*(depth-1) + f\"---{value}\")\n",
        "            \n",
        "        \n",
        "        depth+=1\n",
        "        print_tree(tree[rules][0],column_name=column_name,depth=depth)\n",
        "        print_tree(tree[rules][1],column_name=column_name,depth=depth)\n",
        "        \n",
        "    else:\n",
        "        if depth>1:\n",
        "            print(branch1+branch3*(depth-1)+ f\"---{tree}\")\n",
        "        else:\n",
        "            print(branch2+ f\"---{tree}\")"
      ]
    },
    {
      "cell_type": "markdown",
      "metadata": {
        "id": "gR7RF01R3PlA"
      },
      "source": [
        "<a name=\"cell-train-dataset\"></a>\n",
        "## **Train dataset**"
      ]
    },
    {
      "cell_type": "code",
      "execution_count": null,
      "metadata": {
        "id": "uvUXrdO92bHA"
      },
      "outputs": [],
      "source": [
        "train = df_train.drop(columns=[\"id\",\"Tertarik\"])\n",
        "label_train = df_train.Tertarik\n",
        "\n",
        "validation = df_validation.drop(columns=[\"id\",\"Tertarik\"])\n",
        "label_validation = df_validation.Tertarik\n",
        "\n",
        "test = df_test.drop(columns=[\"Tertarik\"])\n",
        "label_test = df_test.Tertarik"
      ]
    },
    {
      "cell_type": "code",
      "execution_count": null,
      "metadata": {
        "colab": {
          "base_uri": "https://localhost:8080/"
        },
        "id": "xf4R2BEj3Odj",
        "outputId": "6e5f889a-3c74-46bc-9e0a-5dc77c07f21a"
      },
      "outputs": [
        {
          "output_type": "stream",
          "name": "stdout",
          "text": [
            "CPU times: user 27min 41s, sys: 27.8 s, total: 28min 9s\n",
            "Wall time: 28min 20s\n"
          ]
        }
      ],
      "source": [
        "%%time\n",
        "tree = decision_tree(train,label_train)"
      ]
    },
    {
      "cell_type": "code",
      "execution_count": null,
      "metadata": {
        "colab": {
          "base_uri": "https://localhost:8080/"
        },
        "id": "JgShpg2OLiUM",
        "outputId": "bc8e844f-ef3d-4a4d-f135-11cf8e130c81"
      },
      "outputs": [
        {
          "output_type": "stream",
          "name": "stdout",
          "text": [
            "|---Sudah_Asuransi<=0.0\n",
            "|   |---Premi<=36111.0\n",
            "|        |---Kendaraan_Rusak<=0.0\n",
            "|        |    |---Umur<=27.0\n",
            "|        |    |    |---Kanal_Penjualan<=150.0\n",
            "|        |    |    |    |---Lama_Berlangganan<=44.0\n",
            "|        |    |    |    |    |---Kode_Daerah<=7.0\n",
            "|        |    |    |    |    |    |---1.0\n",
            "|        |    |    |    |    |    |---Jenis_Kelamin<=0.0\n",
            "|        |    |    |    |    |    |    |---1.0\n",
            "|        |    |    |    |    |    |    |---SIM<=0.0\n",
            "|        |    |    |    |    |    |    |    |---0.0\n",
            "|        |    |    |    |    |    |    |    |---1.0\n",
            "|        |    |    |    |    |---Kode_Daerah<=47.0\n",
            "|        |    |    |    |    |    |---SIM<=0.0\n",
            "|        |    |    |    |    |    |    |---0.0\n",
            "|        |    |    |    |    |    |    |---1.0\n",
            "|        |    |    |    |    |    |---Umur_Kendaraan<=1.0\n",
            "|        |    |    |    |    |    |    |---SIM<=0.0\n",
            "|        |    |    |    |    |    |    |    |---0.0\n",
            "|        |    |    |    |    |    |    |    |---1.0\n",
            "|        |    |    |    |    |    |    |---0.0\n",
            "|        |    |    |    |---Kode_Daerah<=49.0\n",
            "|        |    |    |    |    |---Lama_Berlangganan<=180.0\n",
            "|        |    |    |    |    |    |---Umur_Kendaraan<=0.0\n",
            "|        |    |    |    |    |    |    |---1.0\n",
            "|        |    |    |    |    |    |    |---Jenis_Kelamin<=0.0\n",
            "|        |    |    |    |    |    |    |    |---1.0\n",
            "|        |    |    |    |    |    |    |    |---0.0\n",
            "|        |    |    |    |    |    |---Umur_Kendaraan<=0.0\n",
            "|        |    |    |    |    |    |    |---1.0\n",
            "|        |    |    |    |    |    |    |---0.0\n",
            "|        |    |    |    |    |---Lama_Berlangganan<=285.0\n",
            "|        |    |    |    |    |    |---Umur_Kendaraan<=0.0\n",
            "|        |    |    |    |    |    |    |---1.0\n",
            "|        |    |    |    |    |    |    |---0.0\n",
            "|        |    |    |    |    |    |---0.0\n",
            "|        |    |    |---Kanal_Penjualan<=25.0\n",
            "|        |    |    |    |---Lama_Berlangganan<=214.0\n",
            "|        |    |    |    |    |---Kode_Daerah<=46.0\n",
            "|        |    |    |    |    |    |---Umur_Kendaraan<=1.0\n",
            "|        |    |    |    |    |    |    |---SIM<=0.0\n",
            "|        |    |    |    |    |    |    |    |---Jenis_Kelamin<=0.0\n",
            "|        |    |    |    |    |    |    |    |    |---0.0\n",
            "|        |    |    |    |    |    |    |    |    |---1.0\n",
            "|        |    |    |    |    |    |    |    |---1.0\n",
            "|        |    |    |    |    |    |    |---SIM<=0.0\n",
            "|        |    |    |    |    |    |    |    |---0.0\n",
            "|        |    |    |    |    |    |    |    |---1.0\n",
            "|        |    |    |    |    |    |---Jenis_Kelamin<=0.0\n",
            "|        |    |    |    |    |    |    |---Umur_Kendaraan<=1.0\n",
            "|        |    |    |    |    |    |    |    |---SIM<=0.0\n",
            "|        |    |    |    |    |    |    |    |    |---0.0\n",
            "|        |    |    |    |    |    |    |    |    |---1.0\n",
            "|        |    |    |    |    |    |    |    |---1.0\n",
            "|        |    |    |    |    |    |    |---0.0\n",
            "|        |    |    |    |    |---Kode_Daerah<=45.0\n",
            "|        |    |    |    |    |    |---Umur_Kendaraan<=1.0\n",
            "|        |    |    |    |    |    |    |---SIM<=0.0\n",
            "|        |    |    |    |    |    |    |    |---0.0\n",
            "|        |    |    |    |    |    |    |    |---1.0\n",
            "|        |    |    |    |    |    |    |---1.0\n",
            "|        |    |    |    |    |    |---Umur_Kendaraan<=0.0\n",
            "|        |    |    |    |    |    |    |---Jenis_Kelamin<=0.0\n",
            "|        |    |    |    |    |    |    |    |---0.0\n",
            "|        |    |    |    |    |    |    |    |---1.0\n",
            "|        |    |    |    |    |    |    |---Jenis_Kelamin<=0.0\n",
            "|        |    |    |    |    |    |    |    |---1.0\n",
            "|        |    |    |    |    |    |    |    |---0.0\n",
            "|        |    |    |    |---Kode_Daerah<=47.0\n",
            "|        |    |    |    |    |---Lama_Berlangganan<=60.0\n",
            "|        |    |    |    |    |    |---Umur_Kendaraan<=1.0\n",
            "|        |    |    |    |    |    |    |---1.0\n",
            "|        |    |    |    |    |    |    |---SIM<=0.0\n",
            "|        |    |    |    |    |    |    |    |---0.0\n",
            "|        |    |    |    |    |    |    |    |---1.0\n",
            "|        |    |    |    |    |    |---SIM<=0.0\n",
            "|        |    |    |    |    |    |    |---Jenis_Kelamin<=0.0\n",
            "|        |    |    |    |    |    |    |    |---Umur_Kendaraan<=0.0\n",
            "|        |    |    |    |    |    |    |    |    |---0.0\n",
            "|        |    |    |    |    |    |    |    |    |---1.0\n",
            "|        |    |    |    |    |    |    |    |---Umur_Kendaraan<=0.0\n",
            "|        |    |    |    |    |    |    |    |    |---1.0\n",
            "|        |    |    |    |    |    |    |    |    |---0.0\n",
            "|        |    |    |    |    |    |    |---1.0\n",
            "|        |    |    |    |    |---Lama_Berlangganan<=294.0\n",
            "|        |    |    |    |    |    |---Umur_Kendaraan<=1.0\n",
            "|        |    |    |    |    |    |    |---SIM<=0.0\n",
            "|        |    |    |    |    |    |    |    |---0.0\n",
            "|        |    |    |    |    |    |    |    |---1.0\n",
            "|        |    |    |    |    |    |    |---1.0\n",
            "|        |    |    |    |    |    |---Umur_Kendaraan<=1.0\n",
            "|        |    |    |    |    |    |    |---1.0\n",
            "|        |    |    |    |    |    |    |---0.0\n",
            "|        |    |---Lama_Berlangganan<=294.0\n",
            "|        |    |    |---Kanal_Penjualan<=152.0\n",
            "|        |    |    |    |---0.0\n",
            "|        |    |    |    |---Umur<=23.0\n",
            "|        |    |    |    |    |---Kode_Daerah<=41.0\n",
            "|        |    |    |    |    |    |---Umur_Kendaraan<=0.0\n",
            "|        |    |    |    |    |    |    |---Jenis_Kelamin<=0.0\n",
            "|        |    |    |    |    |    |    |    |---1.0\n",
            "|        |    |    |    |    |    |    |    |---0.0\n",
            "|        |    |    |    |    |    |    |---0.0\n",
            "|        |    |    |    |    |    |---0.0\n",
            "|        |    |    |    |    |---Kode_Daerah<=41.0\n",
            "|        |    |    |    |    |    |---Umur_Kendaraan<=0.0\n",
            "|        |    |    |    |    |    |    |---1.0\n",
            "|        |    |    |    |    |    |    |---0.0\n",
            "|        |    |    |    |    |    |---0.0\n",
            "|        |    |    |---Umur<=28.0\n",
            "|        |    |    |    |---0.0\n",
            "|        |    |    |    |---Kode_Daerah<=21.0\n",
            "|        |    |    |    |    |---0.0\n",
            "|        |    |    |    |    |---Kanal_Penjualan<=1.0\n",
            "|        |    |    |    |    |    |---Umur_Kendaraan<=0.0\n",
            "|        |    |    |    |    |    |    |---1.0\n",
            "|        |    |    |    |    |    |    |---0.0\n",
            "|        |    |    |    |    |    |---Umur_Kendaraan<=0.0\n",
            "|        |    |    |    |    |    |    |---0.0\n",
            "|        |    |    |    |    |    |    |---Jenis_Kelamin<=0.0\n",
            "|        |    |    |    |    |    |    |    |---1.0\n",
            "|        |    |    |    |    |    |    |    |---0.0\n",
            "|        |---Kendaraan_Rusak<=0.0\n",
            "|        |    |---Umur<=23.0\n",
            "|        |    |    |---Lama_Berlangganan<=141.0\n",
            "|        |    |    |    |---Kode_Daerah<=35.0\n",
            "|        |    |    |    |    |---Kanal_Penjualan<=157.0\n",
            "|        |    |    |    |    |    |---Umur_Kendaraan<=0.0\n",
            "|        |    |    |    |    |    |    |---1.0\n",
            "|        |    |    |    |    |    |    |---0.0\n",
            "|        |    |    |    |    |    |---Jenis_Kelamin<=0.0\n",
            "|        |    |    |    |    |    |    |---0.0\n",
            "|        |    |    |    |    |    |    |---Umur_Kendaraan<=0.0\n",
            "|        |    |    |    |    |    |    |    |---1.0\n",
            "|        |    |    |    |    |    |    |    |---0.0\n",
            "|        |    |    |    |    |---0.0\n",
            "|        |    |    |    |---Kanal_Penjualan<=157.0\n",
            "|        |    |    |    |    |---Kode_Daerah<=27.0\n",
            "|        |    |    |    |    |    |---Umur_Kendaraan<=0.0\n",
            "|        |    |    |    |    |    |    |---1.0\n",
            "|        |    |    |    |    |    |    |---0.0\n",
            "|        |    |    |    |    |    |---Jenis_Kelamin<=0.0\n",
            "|        |    |    |    |    |    |    |---1.0\n",
            "|        |    |    |    |    |    |    |---Umur_Kendaraan<=0.0\n",
            "|        |    |    |    |    |    |    |    |---1.0\n",
            "|        |    |    |    |    |    |    |    |---0.0\n",
            "|        |    |    |    |    |---Kode_Daerah<=8.0\n",
            "|        |    |    |    |    |    |---Umur_Kendaraan<=0.0\n",
            "|        |    |    |    |    |    |    |---Jenis_Kelamin<=0.0\n",
            "|        |    |    |    |    |    |    |    |---0.0\n",
            "|        |    |    |    |    |    |    |    |---1.0\n",
            "|        |    |    |    |    |    |    |---0.0\n",
            "|        |    |    |    |    |    |---0.0\n",
            "|        |    |    |---Kanal_Penjualan<=29.0\n",
            "|        |    |    |    |---Lama_Berlangganan<=229.0\n",
            "|        |    |    |    |    |---Kode_Daerah<=42.0\n",
            "|        |    |    |    |    |    |---SIM<=0.0\n",
            "|        |    |    |    |    |    |    |---0.0\n",
            "|        |    |    |    |    |    |    |---1.0\n",
            "|        |    |    |    |    |    |---1.0\n",
            "|        |    |    |    |    |---Kode_Daerah<=16.0\n",
            "|        |    |    |    |    |    |---Umur_Kendaraan<=0.0\n",
            "|        |    |    |    |    |    |    |---SIM<=0.0\n",
            "|        |    |    |    |    |    |    |    |---0.0\n",
            "|        |    |    |    |    |    |    |    |---1.0\n",
            "|        |    |    |    |    |    |    |---1.0\n",
            "|        |    |    |    |    |    |---SIM<=0.0\n",
            "|        |    |    |    |    |    |    |---0.0\n",
            "|        |    |    |    |    |    |    |---1.0\n",
            "|        |    |    |    |---Lama_Berlangganan<=100.0\n",
            "|        |    |    |    |    |---Kode_Daerah<=10.0\n",
            "|        |    |    |    |    |    |---Umur_Kendaraan<=0.0\n",
            "|        |    |    |    |    |    |    |---1.0\n",
            "|        |    |    |    |    |    |    |---Jenis_Kelamin<=0.0\n",
            "|        |    |    |    |    |    |    |    |---1.0\n",
            "|        |    |    |    |    |    |    |    |---0.0\n",
            "|        |    |    |    |    |    |---Umur_Kendaraan<=0.0\n",
            "|        |    |    |    |    |    |    |---Jenis_Kelamin<=0.0\n",
            "|        |    |    |    |    |    |    |    |---1.0\n",
            "|        |    |    |    |    |    |    |    |---SIM<=0.0\n",
            "|        |    |    |    |    |    |    |    |    |---0.0\n",
            "|        |    |    |    |    |    |    |    |    |---1.0\n",
            "|        |    |    |    |    |    |    |---SIM<=0.0\n",
            "|        |    |    |    |    |    |    |    |---0.0\n",
            "|        |    |    |    |    |    |    |    |---1.0\n",
            "|        |    |    |    |    |---Kode_Daerah<=17.0\n",
            "|        |    |    |    |    |    |---Umur_Kendaraan<=0.0\n",
            "|        |    |    |    |    |    |    |---SIM<=0.0\n",
            "|        |    |    |    |    |    |    |    |---0.0\n",
            "|        |    |    |    |    |    |    |    |---1.0\n",
            "|        |    |    |    |    |    |    |---1.0\n",
            "|        |    |    |    |    |    |---Umur_Kendaraan<=0.0\n",
            "|        |    |    |    |    |    |    |---SIM<=0.0\n",
            "|        |    |    |    |    |    |    |    |---Jenis_Kelamin<=0.0\n",
            "|        |    |    |    |    |    |    |    |    |---0.0\n",
            "|        |    |    |    |    |    |    |    |    |---1.0\n",
            "|        |    |    |    |    |    |    |    |---1.0\n",
            "|        |    |    |    |    |    |    |---1.0\n",
            "|        |    |---Lama_Berlangganan<=222.0\n",
            "|        |    |    |---Umur<=61.0\n",
            "|        |    |    |    |---Kode_Daerah<=9.0\n",
            "|        |    |    |    |    |---Kanal_Penjualan<=124.0\n",
            "|        |    |    |    |    |    |---Jenis_Kelamin<=0.0\n",
            "|        |    |    |    |    |    |    |---0.0\n",
            "|        |    |    |    |    |    |    |---Umur_Kendaraan<=0.0\n",
            "|        |    |    |    |    |    |    |    |---0.0\n",
            "|        |    |    |    |    |    |    |    |---1.0\n",
            "|        |    |    |    |    |    |---0.0\n",
            "|        |    |    |    |    |---0.0\n",
            "|        |    |    |    |---0.0\n",
            "|        |    |    |---0.0\n",
            "|   |---Premi<=2630.0\n",
            "|        |---Lama_Berlangganan<=285.0\n",
            "|        |    |---Kanal_Penjualan<=153.0\n",
            "|        |    |    |---Umur<=20.0\n",
            "|        |    |    |    |---Kode_Daerah<=3.0\n",
            "|        |    |    |    |    |---Jenis_Kelamin<=0.0\n",
            "|        |    |    |    |    |    |---1.0\n",
            "|        |    |    |    |    |    |---0.0\n",
            "|        |    |    |    |    |---0.0\n",
            "|        |    |    |    |---0.0\n",
            "|        |    |    |---0.0\n",
            "|        |    |---0.0\n",
            "|        |---Lama_Berlangganan<=27.0\n",
            "|        |    |---0.0\n",
            "|        |    |---Umur<=32.0\n",
            "|        |    |    |---Kendaraan_Rusak<=0.0\n",
            "|        |    |    |    |---Kode_Daerah<=3.0\n",
            "|        |    |    |    |    |---Umur_Kendaraan<=0.0\n",
            "|        |    |    |    |    |    |---Kanal_Penjualan<=155.0\n",
            "|        |    |    |    |    |    |    |---0.0\n",
            "|        |    |    |    |    |    |    |---1.0\n",
            "|        |    |    |    |    |    |---0.0\n",
            "|        |    |    |    |    |---0.0\n",
            "|        |    |    |    |---0.0\n",
            "|        |    |    |---Kode_Daerah<=14.0\n",
            "|        |    |    |    |---0.0\n",
            "|        |    |    |    |---Kendaraan_Rusak<=0.0\n",
            "|        |    |    |    |    |---Kanal_Penjualan<=153.0\n",
            "|        |    |    |    |    |    |---Umur_Kendaraan<=1.0\n",
            "|        |    |    |    |    |    |    |---0.0\n",
            "|        |    |    |    |    |    |    |---Jenis_Kelamin<=0.0\n",
            "|        |    |    |    |    |    |    |    |---1.0\n",
            "|        |    |    |    |    |    |    |    |---0.0\n",
            "|        |    |    |    |    |    |---0.0\n",
            "|        |    |    |    |    |---0.0\n"
          ]
        }
      ],
      "source": [
        "column_name = train.columns\n",
        "print_tree(tree,column_name)"
      ]
    },
    {
      "cell_type": "markdown",
      "metadata": {
        "id": "tCVdrdvCb4MJ"
      },
      "source": [
        "# **Evaluasi**"
      ]
    },
    {
      "cell_type": "code",
      "execution_count": null,
      "metadata": {
        "id": "9W-DmFLW8n4v"
      },
      "outputs": [],
      "source": [
        "predict_train = predict(tree,train)\n",
        "predict_validation = predict(tree,validation)\n",
        "predict_test = predict(tree,test)"
      ]
    },
    {
      "cell_type": "code",
      "execution_count": null,
      "metadata": {
        "id": "eKqke8iuhCZ4"
      },
      "outputs": [],
      "source": [
        "def get_accuracy(true_label,pred_label):\n",
        "    true_label = np.array(true_label)\n",
        "    pred_label = np.array(pred_label)\n",
        "    true_predict = pred_label[pred_label == true_label]\n",
        "    percentage = (len(true_predict)/len(true_label))\n",
        "    return percentage"
      ]
    },
    {
      "cell_type": "code",
      "execution_count": null,
      "metadata": {
        "id": "fyHh_wAnh2uw"
      },
      "outputs": [],
      "source": [
        "acc_train = get_accuracy(label_train,predict_train)\n",
        "acc_validation = get_accuracy(label_validation,predict_validation)\n",
        "acc_test = get_accuracy(label_test,predict_test)"
      ]
    },
    {
      "cell_type": "code",
      "execution_count": null,
      "metadata": {
        "colab": {
          "base_uri": "https://localhost:8080/",
          "height": 281
        },
        "id": "FEOn8sZOiYvG",
        "outputId": "3cad96ac-e698-4140-8a80-9ea2b76cc607"
      },
      "outputs": [
        {
          "output_type": "display_data",
          "data": {
            "image/png": "[encoded data removed]",
            "text/plain": [
              "<Figure size 432x288 with 1 Axes>"
            ]
          },
          "metadata": {
            "needs_background": "light"
          }
        }
      ],
      "source": [
        "import matplotlib.pyplot as  plt\n",
        "\n",
        "x = [\"Train\",\"Validation\",\"Test\"]\n",
        "y = [acc_train,acc_validation,acc_test]\n",
        "plt.bar(x,y)\n",
        "plt.title(\"Akurasi Prediksi\")\n",
        "plt.ylim(0,1)\n",
        "plt.show()"
      ]
    },
    {
      "cell_type": "markdown",
      "source": [
        "Dari plot diatas, dapat diketahui bahwa akurasi data Train dan Validation ada disekitar 70-80% dan untuk data Test akurasi ada disekitar 60-70%"
      ],
      "metadata": {
        "id": "vyvbJdpBRcTG"
      }
    },
    {
      "cell_type": "markdown",
      "source": [
        "Untuk lebih jelasnya bisa dilihat dibawah"
      ],
      "metadata": {
        "id": "hmxFNgixRz-J"
      }
    },
    {
      "cell_type": "code",
      "execution_count": null,
      "metadata": {
        "id": "29LovhJ4cA4m"
      },
      "outputs": [],
      "source": [
        "from sklearn.metrics import classification_report"
      ]
    },
    {
      "cell_type": "code",
      "execution_count": null,
      "metadata": {
        "colab": {
          "base_uri": "https://localhost:8080/"
        },
        "id": "d7oUslD8JlSX",
        "outputId": "5699fa21-2dec-40ef-d2b4-0aed782905a6"
      },
      "outputs": [
        {
          "output_type": "stream",
          "name": "stdout",
          "text": [
            "              precision    recall  f1-score   support\n",
            "\n",
            "           0       0.91      0.64      0.76    196305\n",
            "           1       0.73      0.94      0.82    196529\n",
            "\n",
            "    accuracy                           0.79    392834\n",
            "   macro avg       0.82      0.79      0.79    392834\n",
            "weighted avg       0.82      0.79      0.79    392834\n",
            "\n"
          ]
        }
      ],
      "source": [
        "print(classification_report(label_train,predict_train))"
      ]
    },
    {
      "cell_type": "code",
      "execution_count": null,
      "metadata": {
        "colab": {
          "base_uri": "https://localhost:8080/"
        },
        "id": "K_whERfPKHEu",
        "outputId": "e30d6e7f-84f7-484e-dd07-b3a24c0e3daf"
      },
      "outputs": [
        {
          "output_type": "stream",
          "name": "stdout",
          "text": [
            "              precision    recall  f1-score   support\n",
            "\n",
            "           0       0.91      0.64      0.75     49216\n",
            "           1       0.72      0.94      0.82     48992\n",
            "\n",
            "    accuracy                           0.79     98208\n",
            "   macro avg       0.82      0.79      0.79     98208\n",
            "weighted avg       0.82      0.79      0.79     98208\n",
            "\n"
          ]
        }
      ],
      "source": [
        "print(classification_report(label_validation,predict_validation))"
      ]
    },
    {
      "cell_type": "code",
      "execution_count": null,
      "metadata": {
        "colab": {
          "base_uri": "https://localhost:8080/"
        },
        "id": "yHih5P-hKQ-N",
        "outputId": "4acfd717-850b-4735-8dbe-ce56a64a8c5d"
      },
      "outputs": [
        {
          "output_type": "stream",
          "name": "stdout",
          "text": [
            "              precision    recall  f1-score   support\n",
            "\n",
            "           0       0.98      0.65      0.78     41778\n",
            "           1       0.27      0.93      0.42      5861\n",
            "\n",
            "    accuracy                           0.69     47639\n",
            "   macro avg       0.63      0.79      0.60     47639\n",
            "weighted avg       0.90      0.69      0.74     47639\n",
            "\n"
          ]
        }
      ],
      "source": [
        "print(classification_report(label_test,predict_test))"
      ]
    },
    {
      "cell_type": "markdown",
      "metadata": {
        "id": "YxObdfUjQhVV"
      },
      "source": [
        "# **Eksperimen**"
      ]
    },
    {
      "cell_type": "markdown",
      "metadata": {
        "id": "HkyJtZayQwuS"
      },
      "source": [
        "Pada eksperimen kali ini, kita akan menguji apakah dengan mengatur parameter min_samples pada Decision Tree dapat meningkatkan akurasi atau tidak. Parameter min_samples digunakan untuk menentukan jumlah minimum samples dari setiap cabang."
      ]
    },
    {
      "cell_type": "markdown",
      "metadata": {
        "id": "sm92OFpYRIZn"
      },
      "source": [
        "Pada Decision Tree yang kita buat, parameter default min_samples adalah None, jika min_samples diatur default, maka min_samples akan diatur sebanyak jumlah label/target yang unik ditambah 1"
      ]
    },
    {
      "cell_type": "markdown",
      "metadata": {
        "id": "7G6AjpcXSvbo"
      },
      "source": [
        "Kali ini kita akan melakukan eksperimen dengan mengatur min_samples sebesar 1%, 3%, dan 5% dari total jumlah data"
      ]
    },
    {
      "cell_type": "markdown",
      "metadata": {
        "id": "EH0h3Rkeo-y7"
      },
      "source": [
        "**min_samples Default**"
      ]
    },
    {
      "cell_type": "markdown",
      "source": [
        "Pada [section ini](#cell-train-dataset), kita telah melakukan train dengan min_samples diatur sebagai default sehingga untuk menghemat waktu, kita tidak perlu melakukan train kembali."
      ],
      "metadata": {
        "id": "7qQsko-iOkGB"
      }
    },
    {
      "cell_type": "code",
      "execution_count": null,
      "metadata": {
        "id": "lwC-TSkkQm0J"
      },
      "outputs": [],
      "source": [
        "# min_samples default\n",
        "\n",
        "tree_default = tree"
      ]
    },
    {
      "cell_type": "code",
      "execution_count": null,
      "metadata": {
        "id": "ZAC3bKIqtFdb"
      },
      "outputs": [],
      "source": [
        "predict_train_default = predict(tree_default,train)\n",
        "predict_validation_default = predict(tree_default,validation)\n",
        "predict_test_default = predict(tree_default,test)"
      ]
    },
    {
      "cell_type": "markdown",
      "metadata": {
        "id": "-5sBwqShpQj8"
      },
      "source": [
        "**min_samples 1%**"
      ]
    },
    {
      "cell_type": "code",
      "execution_count": null,
      "metadata": {
        "colab": {
          "base_uri": "https://localhost:8080/"
        },
        "id": "gioODmmWUWJy",
        "outputId": "5dd2b28a-f568-42a6-83a2-11cf2a67d760"
      },
      "outputs": [
        {
          "output_type": "stream",
          "name": "stdout",
          "text": [
            "CPU times: user 27min 19s, sys: 32.5 s, total: 27min 51s\n",
            "Wall time: 27min 46s\n"
          ]
        }
      ],
      "source": [
        "%%time\n",
        "# min_samples 1%\n",
        "\n",
        "tree_1 = decision_tree(train,label_train,min_samples=0.01)"
      ]
    },
    {
      "cell_type": "code",
      "execution_count": null,
      "metadata": {
        "id": "-CCTRd3_tMlj"
      },
      "outputs": [],
      "source": [
        "predict_train_1 = predict(tree_1,train)\n",
        "predict_validation_1 = predict(tree_1,validation)\n",
        "predict_test_1 = predict(tree_1,test)"
      ]
    },
    {
      "cell_type": "markdown",
      "metadata": {
        "id": "_ZZNbyVbpah9"
      },
      "source": [
        "**min_samples 3%**"
      ]
    },
    {
      "cell_type": "code",
      "execution_count": null,
      "metadata": {
        "colab": {
          "base_uri": "https://localhost:8080/"
        },
        "id": "gTHlXXhsVAUt",
        "outputId": "d7328ea6-497a-48a2-ffc9-3d4288654d37"
      },
      "outputs": [
        {
          "output_type": "stream",
          "name": "stdout",
          "text": [
            "CPU times: user 26min 38s, sys: 24.2 s, total: 27min 3s\n",
            "Wall time: 27min\n"
          ]
        }
      ],
      "source": [
        "%%time\n",
        "# min_samples 3%\n",
        "\n",
        "tree_3 = decision_tree(train,label_train,min_samples=0.03)"
      ]
    },
    {
      "cell_type": "code",
      "execution_count": null,
      "metadata": {
        "id": "4O0TJrSNtZrL"
      },
      "outputs": [],
      "source": [
        "predict_train_3 = predict(tree_3,train)\n",
        "predict_validation_3 = predict(tree_3,validation)\n",
        "predict_test_3 = predict(tree_3,test)"
      ]
    },
    {
      "cell_type": "markdown",
      "metadata": {
        "id": "-Ry6kF41pHHv"
      },
      "source": [
        "**min_samples 5%**"
      ]
    },
    {
      "cell_type": "code",
      "execution_count": null,
      "metadata": {
        "colab": {
          "base_uri": "https://localhost:8080/"
        },
        "id": "_9aB7v5eT1Vp",
        "outputId": "30caacd5-79e2-416a-fa41-1d385ccb54b9"
      },
      "outputs": [
        {
          "output_type": "stream",
          "name": "stdout",
          "text": [
            "CPU times: user 26min 23s, sys: 24.5 s, total: 26min 48s\n",
            "Wall time: 26min 42s\n"
          ]
        }
      ],
      "source": [
        "%%time\n",
        "# min_samples 5%\n",
        "\n",
        "tree_5 = decision_tree(train,label_train,min_samples=0.05)"
      ]
    },
    {
      "cell_type": "code",
      "execution_count": null,
      "metadata": {
        "id": "GuzAQZeGtAUl"
      },
      "outputs": [],
      "source": [
        "predict_train_5 = predict(tree_5,train)\n",
        "predict_validation_5 = predict(tree_5,validation)\n",
        "predict_test_5 = predict(tree_5,test)"
      ]
    },
    {
      "cell_type": "markdown",
      "source": [
        "**Mendapatkan Akurasi Eksperimen**"
      ],
      "metadata": {
        "id": "bQJkltJrSVFR"
      }
    },
    {
      "cell_type": "code",
      "execution_count": null,
      "metadata": {
        "id": "8wmlIiw1Ve6v"
      },
      "outputs": [],
      "source": [
        "x = [\"Default\",\"1%\",\"3%\",\"5%\"]\n",
        "y_predict_train = [get_accuracy(label_train,predict_train_default),\n",
        "                   get_accuracy(label_train,predict_train_1),\n",
        "                   get_accuracy(label_train,predict_train_3),\n",
        "                   get_accuracy(label_train,predict_train_5)]\n",
        "\n",
        "y_predict_validation = [get_accuracy(label_validation,predict_validation_default),\n",
        "                        get_accuracy(label_validation,predict_validation_1),\n",
        "                        get_accuracy(label_validation,predict_validation_3),\n",
        "                        get_accuracy(label_validation,predict_validation_5)]\n",
        "\n",
        "y_predict_test = [get_accuracy(label_test,predict_test_default),\n",
        "                  get_accuracy(label_test,predict_test_1),\n",
        "                  get_accuracy(label_test,predict_test_3),\n",
        "                  get_accuracy(label_test,predict_test_5)]\n"
      ]
    },
    {
      "cell_type": "markdown",
      "source": [
        "**Visualisasi Eksperimen**"
      ],
      "metadata": {
        "id": "8P8rPS83SMN3"
      }
    },
    {
      "cell_type": "code",
      "source": [
        "plt.plot(x,y_predict_train,label=\"Train\")\n",
        "plt.plot(x,y_predict_validation,label=\"Validation\")\n",
        "plt.plot(x,y_predict_test,label=\"Test\")\n",
        "plt.xlabel(\"min_samples\")\n",
        "plt.ylim(0,1)\n",
        "plt.title(\"Akurasi Eksperimen min_samples\")\n",
        "plt.legend()\n",
        "plt.show()"
      ],
      "metadata": {
        "colab": {
          "base_uri": "https://localhost:8080/",
          "height": 296
        },
        "id": "8BsSadB0M9Ev",
        "outputId": "ba42e343-9aec-4e17-bd0a-89a9184a3022"
      },
      "execution_count": null,
      "outputs": [
        {
          "output_type": "display_data",
          "data": {
            "image/png": "[encoded data removed]",
            "text/plain": [
              "<Figure size 432x288 with 1 Axes>"
            ]
          },
          "metadata": {
            "needs_background": "light"
          }
        }
      ]
    },
    {
      "cell_type": "code",
      "execution_count": null,
      "metadata": {
        "colab": {
          "base_uri": "https://localhost:8080/"
        },
        "id": "I2-sfYjYkkPs",
        "outputId": "ad0ab125-0334-4f8d-8476-895f3f8a9f49"
      },
      "outputs": [
        {
          "output_type": "stream",
          "name": "stdout",
          "text": [
            "Highest Accuracy\n",
            "\n",
            "Train: min_samples = Default\n",
            "Validation: min_samples = Default\n",
            "Test: min_samples = 3%\n"
          ]
        }
      ],
      "source": [
        "print(\"Highest Accuracy\\n\")\n",
        "\n",
        "print(f\"Train: min_samples = {x[np.argmax(y_predict_train)]}\")\n",
        "print(f\"Validation: min_samples = {x[np.argmax(y_predict_validation)]}\")\n",
        "print(f\"Test: min_samples = {x[np.argmax(y_predict_test)]}\")\n"
      ]
    },
    {
      "cell_type": "code",
      "execution_count": null,
      "metadata": {
        "colab": {
          "base_uri": "https://localhost:8080/",
          "height": 143
        },
        "id": "UFfFQgw-l0Zd",
        "outputId": "e177c69e-dc91-47e0-8dca-2e661ecbbbff"
      },
      "outputs": [
        {
          "output_type": "execute_result",
          "data": {
            "text/html": [
              "\n",
              "  <div id=\"df-9c8d62da-aafc-41bd-8bb3-9d14271b09b5\">\n",
              "    <div class=\"colab-df-container\">\n",
              "      <div>\n",
              "<style scoped>\n",
              "    .dataframe tbody tr th:only-of-type {\n",
              "        vertical-align: middle;\n",
              "    }\n",
              "\n",
              "    .dataframe tbody tr th {\n",
              "        vertical-align: top;\n",
              "    }\n",
              "\n",
              "    .dataframe thead th {\n",
              "        text-align: right;\n",
              "    }\n",
              "</style>\n",
              "<table border=\"1\" class=\"dataframe\">\n",
              "  <thead>\n",
              "    <tr style=\"text-align: right;\">\n",
              "      <th></th>\n",
              "      <th>Default</th>\n",
              "      <th>1%</th>\n",
              "      <th>3%</th>\n",
              "      <th>5%</th>\n",
              "    </tr>\n",
              "  </thead>\n",
              "  <tbody>\n",
              "    <tr>\n",
              "      <th>Train</th>\n",
              "      <td>79.196811</td>\n",
              "      <td>79.063167</td>\n",
              "      <td>78.943523</td>\n",
              "      <td>78.665798</td>\n",
              "    </tr>\n",
              "    <tr>\n",
              "      <th>Validation</th>\n",
              "      <td>79.022076</td>\n",
              "      <td>78.950798</td>\n",
              "      <td>78.827590</td>\n",
              "      <td>78.528226</td>\n",
              "    </tr>\n",
              "    <tr>\n",
              "      <th>Test</th>\n",
              "      <td>68.645438</td>\n",
              "      <td>68.972900</td>\n",
              "      <td>69.031676</td>\n",
              "      <td>67.495120</td>\n",
              "    </tr>\n",
              "  </tbody>\n",
              "</table>\n",
              "</div>\n",
              "      <button class=\"colab-df-convert\" onclick=\"convertToInteractive('df-9c8d62da-aafc-41bd-8bb3-9d14271b09b5')\"\n",
              "              title=\"Convert this dataframe to an interactive table.\"\n",
              "              style=\"display:none;\">\n",
              "        \n",
              "  <svg xmlns=\"http://www.w3.org/2000/svg\" height=\"24px\"viewBox=\"0 0 24 24\"\n",
              "       width=\"24px\">\n",
              "    <path d=\"M0 0h24v24H0V0z\" fill=\"none\"/>\n",
              "    <path d=\"M18.56 5.44l.94 2.06.94-2.06 2.06-.94-2.06-.94-.94-2.06-.94 2.06-2.06.94zm-11 1L8.5 8.5l.94-2.06 2.06-.94-2.06-.94L8.5 2.5l-.94 2.06-2.06.94zm10 10l.94 2.06.94-2.06 2.06-.94-2.06-.94-.94-2.06-.94 2.06-2.06.94z\"/><path d=\"M17.41 7.96l-1.37-1.37c-.4-.4-.92-.59-1.43-.59-.52 0-1.04.2-1.43.59L10.3 9.45l-7.72 7.72c-.78.78-.78 2.05 0 2.83L4 21.41c.39.39.9.59 1.41.59.51 0 1.02-.2 1.41-.59l7.78-7.78 2.81-2.81c.8-.78.8-2.07 0-2.86zM5.41 20L4 18.59l7.72-7.72 1.47 1.35L5.41 20z\"/>\n",
              "  </svg>\n",
              "      </button>\n",
              "      \n",
              "  <style>\n",
              "    .colab-df-container {\n",
              "      display:flex;\n",
              "      flex-wrap:wrap;\n",
              "      gap: 12px;\n",
              "    }\n",
              "\n",
              "    .colab-df-convert {\n",
              "      background-color: #E8F0FE;\n",
              "      border: none;\n",
              "      border-radius: 50%;\n",
              "      cursor: pointer;\n",
              "      display: none;\n",
              "      fill: #1967D2;\n",
              "      height: 32px;\n",
              "      padding: 0 0 0 0;\n",
              "      width: 32px;\n",
              "    }\n",
              "\n",
              "    .colab-df-convert:hover {\n",
              "      background-color: #E2EBFA;\n",
              "      box-shadow: 0px 1px 2px rgba(60, 64, 67, 0.3), 0px 1px 3px 1px rgba(60, 64, 67, 0.15);\n",
              "      fill: #174EA6;\n",
              "    }\n",
              "\n",
              "    [theme=dark] .colab-df-convert {\n",
              "      background-color: #3B4455;\n",
              "      fill: #D2E3FC;\n",
              "    }\n",
              "\n",
              "    [theme=dark] .colab-df-convert:hover {\n",
              "      background-color: #434B5C;\n",
              "      box-shadow: 0px 1px 3px 1px rgba(0, 0, 0, 0.15);\n",
              "      filter: drop-shadow(0px 1px 2px rgba(0, 0, 0, 0.3));\n",
              "      fill: #FFFFFF;\n",
              "    }\n",
              "  </style>\n",
              "\n",
              "      <script>\n",
              "        const buttonEl =\n",
              "          document.querySelector('#df-9c8d62da-aafc-41bd-8bb3-9d14271b09b5 button.colab-df-convert');\n",
              "        buttonEl.style.display =\n",
              "          google.colab.kernel.accessAllowed ? 'block' : 'none';\n",
              "\n",
              "        async function convertToInteractive(key) {\n",
              "          const element = document.querySelector('#df-9c8d62da-aafc-41bd-8bb3-9d14271b09b5');\n",
              "          const dataTable =\n",
              "            await google.colab.kernel.invokeFunction('convertToInteractive',\n",
              "                                                     [key], {});\n",
              "          if (!dataTable) return;\n",
              "\n",
              "          const docLinkHtml = 'Like what you see? Visit the ' +\n",
              "            '<a target=\"_blank\" href=https://colab.research.google.com/notebooks/data_table.ipynb>data table notebook</a>'\n",
              "            + ' to learn more about interactive tables.';\n",
              "          element.innerHTML = '';\n",
              "          dataTable['output_type'] = 'display_data';\n",
              "          await google.colab.output.renderOutput(dataTable, element);\n",
              "          const docLink = document.createElement('div');\n",
              "          docLink.innerHTML = docLinkHtml;\n",
              "          element.appendChild(docLink);\n",
              "        }\n",
              "      </script>\n",
              "    </div>\n",
              "  </div>\n",
              "  "
            ],
            "text/plain": [
              "              Default         1%         3%         5%\n",
              "Train       79.196811  79.063167  78.943523  78.665798\n",
              "Validation  79.022076  78.950798  78.827590  78.528226\n",
              "Test        68.645438  68.972900  69.031676  67.495120"
            ]
          },
          "metadata": {},
          "execution_count": 63
        }
      ],
      "source": [
        "column = x\n",
        "data = np.array([y_predict_train,y_predict_validation,y_predict_test])*100\n",
        "index = [\"Train\",\"Validation\",\"Test\"]\n",
        "\n",
        "df_eksperimen = pd.DataFrame(data=data, columns=column, index=index )\n",
        "df_eksperimen"
      ]
    },
    {
      "cell_type": "code",
      "source": [
        "percent_3 = data[:,2]\n",
        "default = data[:,0]\n",
        "\n",
        "percent_3 - default"
      ],
      "metadata": {
        "colab": {
          "base_uri": "https://localhost:8080/"
        },
        "id": "jI409volMG5g",
        "outputId": "8fa1236d-632b-472a-e631-91b2e115b1d7"
      },
      "execution_count": null,
      "outputs": [
        {
          "output_type": "execute_result",
          "data": {
            "text/plain": [
              "array([-0.25328765, -0.19448517,  0.38623817])"
            ]
          },
          "metadata": {},
          "execution_count": 65
        }
      ]
    },
    {
      "cell_type": "markdown",
      "metadata": {
        "id": "rKOg_ePsO8fT"
      },
      "source": [
        "# **Kesimpulan**"
      ]
    },
    {
      "cell_type": "markdown",
      "metadata": {
        "id": "iROpxAhWO_hg"
      },
      "source": [
        "Dataset yang disediakan dapat diklasifikasikan dengan model Decision Tree dengan akurasi sebesar 79% pada data train, 79% pada data validation, dan 68% pada data test."
      ]
    },
    {
      "cell_type": "markdown",
      "source": [
        "Pada eksperimen yang dilakukan, didapat bahwa pada dataset yang kita miliki tidak banyak terjadi peningkatan akurasi, bahkan terjadi penurunan pada beberapa data saat mengatur min_samples"
      ],
      "metadata": {
        "id": "6RmiTetBMTZO"
      }
    },
    {
      "cell_type": "markdown",
      "source": [
        "Meskipun begitu, kita dapat meningkatkan akurasi sebesar 0.3% pada data test dengan mengatur min_samples sebesar 3%, namun hal itu dapat menurunkan akurasi sebesar 0.2% pada data train dan 0.1% pada data validation"
      ],
      "metadata": {
        "id": "k3kBAFkNW1-5"
      }
    }
  ],
  "metadata": {
    "colab": {
      "collapsed_sections": [
        "t4-sQFdv4SBS"
      ],
      "name": "Tugas 2.ipynb",
      "provenance": [],
      "toc_visible": true
    },
    "kernelspec": {
      "display_name": "Python 3",
      "language": "python",
      "name": "python3"
    },
    "language_info": {
      "codemirror_mode": {
        "name": "ipython",
        "version": 3
      },
      "file_extension": ".py",
      "mimetype": "text/x-python",
      "name": "python",
      "nbconvert_exporter": "python",
      "pygments_lexer": "ipython3",
      "version": "3.8.5"
    }
  },
  "nbformat": 4,
  "nbformat_minor": 0
}